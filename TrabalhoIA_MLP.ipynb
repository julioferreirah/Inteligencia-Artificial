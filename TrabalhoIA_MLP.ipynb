{
  "nbformat": 4,
  "nbformat_minor": 0,
  "metadata": {
    "colab": {
      "provenance": [],
      "include_colab_link": true
    },
    "kernelspec": {
      "name": "python3",
      "display_name": "Python 3"
    },
    "language_info": {
      "name": "python"
    }
  },
  "cells": [
    {
      "cell_type": "markdown",
      "metadata": {
        "id": "view-in-github",
        "colab_type": "text"
      },
      "source": [
        "<a href=\"https://colab.research.google.com/github/julioferreirah/Inteligencia-Artificial/blob/main/TrabalhoIA_MLP.ipynb\" target=\"_parent\"><img src=\"https://colab.research.google.com/assets/colab-badge.svg\" alt=\"Open In Colab\"/></a>"
      ]
    },
    {
      "cell_type": "markdown",
      "source": [
        "# Trabalho de Inteligência Artificial - Implementação de MLP"
      ],
      "metadata": {
        "id": "ATXSCBf5_w49"
      }
    },
    {
      "cell_type": "markdown",
      "source": [
        "## Modelo"
      ],
      "metadata": {
        "id": "pD5VsiaKATDT"
      }
    },
    {
      "cell_type": "markdown",
      "source": [
        " ### Importando Bibliotecas\n"
      ],
      "metadata": {
        "id": "keioPO5nxqm6"
      }
    },
    {
      "cell_type": "code",
      "source": [
        "import numpy as np\n",
        "import time as t\n",
        "import matplotlib.pyplot as plt\n",
        "%matplotlib inline"
      ],
      "metadata": {
        "id": "eaFUUzkZxuct"
      },
      "execution_count": 128,
      "outputs": []
    },
    {
      "cell_type": "markdown",
      "source": [
        "### Modelo sem parada antecipada"
      ],
      "metadata": {
        "id": "rsgpc7G35FJq"
      }
    },
    {
      "cell_type": "code",
      "source": [
        "# Função de ativação tangente hiperbólica\n",
        "def tanh(x):\n",
        "    return np.tanh(x)\n",
        "\n",
        "# Função de perda - Erro Quadrático Médio\n",
        "def erro_quadratico(y_dado, y_predito):\n",
        "    return np.mean((y_dado - y_predito) ** 2)\n",
        "\n",
        "class MLP:\n",
        "    def __init__(self, tamanho_entrada, tamanho_escondida, tamanho_saida):\n",
        "        # Inicialização dos pesos\n",
        "        self.W1 = np.random.randn(tamanho_entrada, tamanho_escondida)\n",
        "        self.b1 = np.zeros((1, tamanho_escondida))\n",
        "        self.W2 = np.random.randn(tamanho_escondida, tamanho_saida)\n",
        "        self.b2 = np.zeros((1, tamanho_saida))\n",
        "\n",
        "    def feedforward(self, X):\n",
        "        # Camada oculta\n",
        "        self.z1 = np.dot(X, self.W1) + self.b1\n",
        "        self.a1 = tanh(self.z1)\n",
        "\n",
        "        # Camada de saída\n",
        "        self.z2 = np.dot(self.a1, self.W2) + self.b2\n",
        "        self.a2 = tanh(self.z2)\n",
        "\n",
        "        return self.a2\n",
        "\n",
        "    def backpropagation(self, X, y, y_predito, taxa_aprendizado):\n",
        "        # Gradiente da camada de saída\n",
        "        delta2 = (y_predito - y) * (1 - tanh(self.z2) ** 2)\n",
        "        dW2 = np.dot(self.a1.T, delta2)\n",
        "        db2 = delta2.sum(axis=0, keepdims=True)\n",
        "\n",
        "        # Gradiente da camada oculta\n",
        "        delta1 = np.dot(delta2, self.W2.T) * (1 - tanh(self.z1) ** 2)\n",
        "        dW1 = np.dot(X.T, delta1)\n",
        "        db1 = delta1.sum(axis=0)\n",
        "\n",
        "        # Atualização dos pesos\n",
        "        self.W2 -= taxa_aprendizado * dW2\n",
        "        self.b2 -= taxa_aprendizado * db2\n",
        "        self.W1 -= taxa_aprendizado * dW1\n",
        "        self.b1 -= taxa_aprendizado * db1\n",
        "\n",
        "    def train(self, X, y, epochs, taxa_aprendizado):\n",
        "        v = []\n",
        "        for  i in range(epochs) :\n",
        "            # Feedforward\n",
        "            y_predito = self.feedforward(X)\n",
        "\n",
        "            # Backpropagation\n",
        "            self.backpropagation(X, y, y_predito, taxa_aprendizado)\n",
        "\n",
        "            # Cálculo do erro\n",
        "            loss = erro_quadratico(y, y_predito)\n",
        "\n",
        "            #registra erro pro plot\n",
        "            v.append(loss)\n",
        "\n",
        "            # condição parada - erro\n",
        "            if float(loss) < 0.005:\n",
        "              print(\"Para por minimização de erro\")\n",
        "              break\n",
        "\n",
        "            # condição parada - aprendizagem\n",
        "            if i % 100 == 0:\n",
        "              taxa_aprendizado = taxa_aprendizado*0.99\n",
        "            if float(taxa_aprendizado) < 0.001:\n",
        "              print(\"Para por taxa de aprendizado muito baixa\")\n",
        "              break\n",
        "\n",
        "\n",
        "        #quando parou\n",
        "        print(\"Parada na época \", i +1)\n",
        "        print(\"Taxa de aprendizado \", taxa_aprendizado)\n",
        "\n",
        "        #plot do erro\n",
        "        plt.plot(range(0, i+1), v)\n",
        "        plt.xlabel('Épocas')\n",
        "        plt.ylabel('Erro Quadrático Médio')\n",
        "        plt.title('Histórico de Erro durante o Treinamento')\n",
        "        plt.show()\n"
      ],
      "metadata": {
        "id": "IudmdQrGxx75"
      },
      "execution_count": 307,
      "outputs": []
    },
    {
      "cell_type": "markdown",
      "source": [
        "### Modelo com parada antecipada"
      ],
      "metadata": {
        "id": "DFb7rWblMRcz"
      }
    },
    {
      "cell_type": "code",
      "source": [
        "# Função de ativação tangente hiperbólica\n",
        "def tanh(x):\n",
        "    return np.tanh(x)\n",
        "\n",
        "# Função de perda - Erro Quadrático Médio\n",
        "def erro_quadratico(y_dado, y_predito):\n",
        "    return np.mean((y_dado - y_predito) ** 2)\n",
        "\n",
        "class MLPpa:\n",
        "    def __init__(self, tamanho_entrada, tamanho_escondida, tamanho_saida):\n",
        "        # Inicialização dos pesos\n",
        "        self.W1 = np.random.randn(tamanho_entrada, tamanho_escondida)\n",
        "        self.b1 = np.zeros((1, tamanho_escondida))\n",
        "        self.W2 = np.random.randn(tamanho_escondida, tamanho_saida)\n",
        "        self.b2 = np.zeros((1, tamanho_saida))\n",
        "\n",
        "    def feedforward(self, X):\n",
        "        # Camada oculta\n",
        "        self.z1 = np.dot(X, self.W1) + self.b1\n",
        "        self.a1 = tanh(self.z1)\n",
        "\n",
        "        # Camada de saída\n",
        "        self.z2 = np.dot(self.a1, self.W2) + self.b2\n",
        "        self.a2 = tanh(self.z2)\n",
        "\n",
        "        return self.a2\n",
        "\n",
        "    def backpropagation(self, X, y, y_predito, taxa_aprendizado):\n",
        "        # Gradiente da camada de saída\n",
        "        delta2 = (y_predito - y) * (1 - tanh(self.z2) ** 2)\n",
        "        dW2 = np.dot(self.a1.T, delta2)\n",
        "        db2 = delta2.sum(axis=0, keepdims=True)\n",
        "\n",
        "        # Gradiente da camada oculta\n",
        "        delta1 = np.dot(delta2, self.W2.T) * (1 - tanh(self.z1) ** 2)\n",
        "        dW1 = np.dot(X.T, delta1)\n",
        "        db1 = delta1.sum(axis=0)\n",
        "\n",
        "        # Atualização dos pesos\n",
        "        self.W2 -= taxa_aprendizado * dW2\n",
        "        self.b2 -= taxa_aprendizado * db2\n",
        "        self.W1 -= taxa_aprendizado * dW1\n",
        "        self.b1 -= taxa_aprendizado * db1\n",
        "\n",
        "    def train(self, X, y, epochs, taxa_aprendizado, X_validacao, y_validacao):\n",
        "        v_treino = []\n",
        "        v_validacao = []\n",
        "        paciencia = 0\n",
        "        dif = 0\n",
        "\n",
        "        for i in range(epochs):\n",
        "            # Feedforward\n",
        "            y_predito = self.feedforward(X)\n",
        "\n",
        "            # Backpropagation\n",
        "            self.backpropagation(X, y, y_predito, taxa_aprendizado)\n",
        "\n",
        "            # Cálculo do erro\n",
        "            loss_treino = erro_quadratico(y, y_predito)\n",
        "            loss_validacao = erro_quadratico(y_validacao, self.feedforward(X_validacao))\n",
        "\n",
        "            # Calculo da diferença entre validacao e treino + atualização da paciencia\n",
        "            difn = loss_validacao - loss_treino\n",
        "            if difn > dif and difn > 0:\n",
        "                paciencia += 1\n",
        "            else:\n",
        "                paciencia = 0\n",
        "            dif = difn\n",
        "\n",
        "            # Condição de parada antecipada - diferença aumentou por 50 vezes seguidas\n",
        "            if paciencia >= 50:\n",
        "                print(\"Parada antecipada\")\n",
        "                break\n",
        "\n",
        "            # Registro dos erros para o plot\n",
        "            v_treino.append(loss_treino)\n",
        "            v_validacao.append(loss_validacao)\n",
        "\n",
        "            # condição parada - erro\n",
        "            if float(loss_treino) < 0.005:\n",
        "              print(\"Para por minimização de erro\")\n",
        "              i +=1\n",
        "              break\n",
        "\n",
        "            # condição parada - aprendizagem\n",
        "            if i % 100 == 0:\n",
        "              taxa_aprendizado = taxa_aprendizado*0.99\n",
        "            if float(taxa_aprendizado) < 0.001:\n",
        "              print(\"Para por taxa de aprendizado muito baixa\")\n",
        "              i +=1\n",
        "              break\n",
        "\n",
        "        # Quando parou\n",
        "        print(\"Parada na época\", i )\n",
        "        print(\"Taxa de aprendizado\", taxa_aprendizado)\n",
        "\n",
        "        # Plot do erro de treinamento e validação\n",
        "        plt.plot(range(0, i), v_treino, label='Treinamento')\n",
        "        plt.plot(range(0, i ), v_validacao, label='Validação')\n",
        "        plt.xlabel('Épocas')\n",
        "        plt.ylabel('Erro Quadrático Médio')\n",
        "        plt.title('Histórico de Erro durante o Treinamento')\n",
        "        plt.legend()\n",
        "        plt.show()\n"
      ],
      "metadata": {
        "id": "UKC5JCgK6pcj"
      },
      "execution_count": 329,
      "outputs": []
    },
    {
      "cell_type": "markdown",
      "source": [
        "#Aplicação do Modelo"
      ],
      "metadata": {
        "id": "meFf1pvvy6Rx"
      }
    },
    {
      "cell_type": "markdown",
      "source": [
        "## Portas Lógicas"
      ],
      "metadata": {
        "id": "g6j1bsirh_-z"
      }
    },
    {
      "cell_type": "markdown",
      "source": [
        " ### Importando Bibliotecas\n"
      ],
      "metadata": {
        "id": "VYF4MfYt5cZY"
      }
    },
    {
      "cell_type": "code",
      "source": [
        "#condiderando bibliotecas importadas anteriormente\n",
        "import pandas as pd"
      ],
      "metadata": {
        "id": "cbfbisFF5cZf"
      },
      "execution_count": 5,
      "outputs": []
    },
    {
      "cell_type": "markdown",
      "source": [
        "###Problema do AND"
      ],
      "metadata": {
        "id": "c8fFlDya00Vj"
      }
    },
    {
      "cell_type": "code",
      "source": [
        "# Importando arquivos\n",
        "df = pd.read_csv(\"https://raw.githubusercontent.com/julioferreirah/Trabalho-IA/main/problemAND.csv\", header=None, prefix='c')\n",
        "\n",
        "# Criando vetores\n",
        "X = df.iloc[:, :-1].values  # Seleciona todas as colunas, exceto a última, para X\n",
        "y_raw = df.iloc[:, -1].values  # Seleciona a última coluna para y\n",
        "\n",
        "# Formatando y como uma matriz de coluna\n",
        "y = y_raw.reshape(-1, 1)\n"
      ],
      "metadata": {
        "colab": {
          "base_uri": "https://localhost:8080/"
        },
        "id": "PbusencL9Ifg",
        "outputId": "9c79c552-57ec-4b49-e447-27f77226ec4b"
      },
      "execution_count": 82,
      "outputs": [
        {
          "output_type": "stream",
          "name": "stderr",
          "text": [
            "<ipython-input-82-ecd9cf465c72>:2: FutureWarning: The prefix argument has been deprecated and will be removed in a future version. Use a list comprehension on the column names in the future.\n",
            "\n",
            "\n",
            "  df = pd.read_csv(\"https://raw.githubusercontent.com/julioferreirah/Trabalho-IA/main/problemAND.csv\", header=None, prefix='c')\n"
          ]
        }
      ]
    },
    {
      "cell_type": "code",
      "source": [
        "\n",
        "# Treinamento do modelo\n",
        "model = MLP(tamanho_entrada = 2, tamanho_escondida = 1, tamanho_saida = 1)\n",
        "print(model.train(X= X,y= y, epochs= 100, taxa_aprendizado= 0.1))\n",
        "\n",
        "# Chamada da execucao do algoritmo treinado\n",
        "a = model.feedforward(X)\n",
        "print(a)\n",
        "print(np.round(a))\n"
      ],
      "metadata": {
        "colab": {
          "base_uri": "https://localhost:8080/",
          "height": 640
        },
        "id": "5mhsWlbIy9Mf",
        "outputId": "a8c08777-0508-4b51-9d94-e45861c0b1fd"
      },
      "execution_count": 83,
      "outputs": [
        {
          "output_type": "display_data",
          "data": {
            "text/plain": [
              "<Figure size 640x480 with 1 Axes>"
            ],
            "image/png": "[encoded data removed]"
          },
          "metadata": {}
        },
        {
          "output_type": "stream",
          "name": "stdout",
          "text": [
            "None\n",
            "[[-0.98272894]\n",
            " [-0.93081692]\n",
            " [-0.93094113]\n",
            " [ 0.892373  ]]\n",
            "[[-1.]\n",
            " [-1.]\n",
            " [-1.]\n",
            " [ 1.]]\n"
          ]
        }
      ]
    },
    {
      "cell_type": "markdown",
      "source": [
        "###Problema do OR"
      ],
      "metadata": {
        "id": "7760I3HsLlsc"
      }
    },
    {
      "cell_type": "code",
      "source": [
        "# Importando arquivos\n",
        "df = pd.read_csv(\"https://raw.githubusercontent.com/julioferreirah/Trabalho-IA/main/problemOR.csv\", header=None, prefix='c')\n",
        "\n",
        "# Criando vetores\n",
        "X = df.iloc[:, :-1].values  # Seleciona todas as colunas, exceto a última, para X\n",
        "y_raw = df.iloc[:, -1].values  # Seleciona a última coluna para y\n",
        "\n",
        "# Formatando y como uma matriz de coluna\n",
        "y = y_raw.reshape(-1, 1)\n"
      ],
      "metadata": {
        "colab": {
          "base_uri": "https://localhost:8080/"
        },
        "outputId": "3389d98b-b747-4ae6-9ec1-5e4f26f8bf81",
        "id": "Da1MURRlLls_"
      },
      "execution_count": null,
      "outputs": [
        {
          "output_type": "stream",
          "name": "stderr",
          "text": [
            "<ipython-input-78-c68ca407501b>:2: FutureWarning: The prefix argument has been deprecated and will be removed in a future version. Use a list comprehension on the column names in the future.\n",
            "\n",
            "\n",
            "  df = pd.read_csv(\"https://raw.githubusercontent.com/julioferreirah/Trabalho-IA/main/problemOR.csv\", header=None, prefix='c')\n"
          ]
        }
      ]
    },
    {
      "cell_type": "code",
      "source": [
        "\n",
        "# Treinamento do modelo\n",
        "model = MLP(tamanho_entrada = 2, tamanho_escondida = 1, tamanho_saida = 1)\n",
        "print(model.train(X= X,y= y, epochs= 100, taxa_aprendizado= 0.1))\n",
        "\n",
        "# Chamada da execucao do algoritmo treinado\n",
        "a = model.feedforward(X)\n",
        "print(a)\n",
        "print(np.round(a))\n"
      ],
      "metadata": {
        "colab": {
          "base_uri": "https://localhost:8080/",
          "height": 640
        },
        "outputId": "b2fc20fe-7f09-4fca-8d3c-94ddbd2a32bd",
        "id": "2fBKwzGvLltB"
      },
      "execution_count": null,
      "outputs": [
        {
          "output_type": "display_data",
          "data": {
            "text/plain": [
              "<Figure size 640x480 with 1 Axes>"
            ],
            "image/png": "[encoded data removed]"
          },
          "metadata": {}
        },
        {
          "output_type": "stream",
          "name": "stdout",
          "text": [
            "None\n",
            "[[-0.89545127]\n",
            " [ 0.94527021]\n",
            " [ 0.93502319]\n",
            " [ 0.98138615]]\n",
            "[[-1.]\n",
            " [ 1.]\n",
            " [ 1.]\n",
            " [ 1.]]\n"
          ]
        }
      ]
    },
    {
      "cell_type": "markdown",
      "source": [
        "###Problema do XOR"
      ],
      "metadata": {
        "id": "j0zL0iJoKaCq"
      }
    },
    {
      "cell_type": "code",
      "source": [
        "# Importando arquivos\n",
        "df = pd.read_csv(\"https://raw.githubusercontent.com/julioferreirah/Trabalho-IA/main/problemXOR.csv\", header=None, prefix='c')\n",
        "\n",
        "# Criando vetores\n",
        "X = df.iloc[:, :-1].values  # Seleciona todas as colunas, exceto a última, para X\n",
        "y_raw = df.iloc[:, -1].values  # Seleciona a última coluna para y\n",
        "\n",
        "# Formatando y como uma matriz de coluna\n",
        "y = y_raw.reshape(-1, 1)\n",
        "\n",
        "# Verificando as dimensões\n",
        "print(\"Dimensões de X:\", X.shape)\n",
        "print(\"Dimensões de y:\", y.shape)\n"
      ],
      "metadata": {
        "colab": {
          "base_uri": "https://localhost:8080/"
        },
        "outputId": "855f5b0c-0380-4faf-e39f-c3a909b8a539",
        "id": "ljVUmFeEKaC0"
      },
      "execution_count": 305,
      "outputs": [
        {
          "output_type": "stream",
          "name": "stderr",
          "text": [
            "<ipython-input-305-77a4337899f9>:2: FutureWarning: The prefix argument has been deprecated and will be removed in a future version. Use a list comprehension on the column names in the future.\n",
            "\n",
            "\n",
            "  df = pd.read_csv(\"https://raw.githubusercontent.com/julioferreirah/Trabalho-IA/main/problemXOR.csv\", header=None, prefix='c')\n"
          ]
        },
        {
          "output_type": "stream",
          "name": "stdout",
          "text": [
            "Dimensões de X: (4, 2)\n",
            "Dimensões de y: (4, 1)\n"
          ]
        }
      ]
    },
    {
      "cell_type": "code",
      "source": [
        "\n",
        "# Treinamento do modelo\n",
        "model = MLP(tamanho_entrada = 2, tamanho_escondida = 3, tamanho_saida = 1)\n",
        "model.train(X= X,y= y, epochs= 500, taxa_aprendizado= 0.1)\n",
        "\n",
        "# Chamada da execucao do algoritmo treinado\n",
        "a = model.feedforward(X)\n",
        "print(a)\n",
        "print(np.round(a))\n",
        "print(\"Erro médio de teste: %.2f\" %(np.mean(abs(y - a))*100) + \"%\")"
      ],
      "metadata": {
        "colab": {
          "base_uri": "https://localhost:8080/",
          "height": 695
        },
        "outputId": "b138859b-1495-412e-e5f6-1867a9995242",
        "id": "56YC8e4Xc36Y"
      },
      "execution_count": 310,
      "outputs": [
        {
          "output_type": "stream",
          "name": "stdout",
          "text": [
            "Para por minimização de erro\n",
            "Parada na época  402\n",
            "Taxa de aprendizado  0.09509900499\n"
          ]
        },
        {
          "output_type": "display_data",
          "data": {
            "text/plain": [
              "<Figure size 640x480 with 1 Axes>"
            ],
            "image/png": "[encoded data removed]"
          },
          "metadata": {}
        },
        {
          "output_type": "stream",
          "name": "stdout",
          "text": [
            "[[-0.94122276]\n",
            " [ 0.91603517]\n",
            " [ 0.95309852]\n",
            " [-0.91546621]]\n",
            "[[-1.]\n",
            " [ 1.]\n",
            " [ 1.]\n",
            " [-1.]]\n",
            "Erro teste: 6.85%\n"
          ]
        }
      ]
    },
    {
      "cell_type": "markdown",
      "source": [
        "## Caracteres"
      ],
      "metadata": {
        "id": "tpzvNAYEiJnz"
      }
    },
    {
      "cell_type": "markdown",
      "source": [
        "### Sem Validação Cruzada"
      ],
      "metadata": {
        "id": "TsfeLnAThoA4"
      }
    },
    {
      "cell_type": "markdown",
      "source": [
        "#### Sem Parada Antecipada"
      ],
      "metadata": {
        "id": "6DIiU_K9ivzD"
      }
    },
    {
      "cell_type": "code",
      "source": [
        "# Importando arquivos\n",
        "df = pd.read_csv(\"https://raw.githubusercontent.com/julioferreirah/Trabalho-IA/main/caracteres-limpo.csv\", header=None)\n",
        "\n",
        "# Criando vetores\n",
        "X = df.iloc[:, :-7].values  # Seleciona todas as colunas, exceto as 7 últimas, para X - dados\n",
        "y = df.iloc[:, -7:].values  # Seleciona as 7 últimas coluna para y - resposta\n",
        "\n",
        "# Separando conjunto de teste - 10%\n",
        "num_amostras_teste = int(X.shape[0] * 0.1)\n",
        "indices_embaralhados = np.random.permutation(X.shape[0]) # Embaralhar os índices das amostras\n",
        "indices_teste = indices_embaralhados[:num_amostras_teste] # Selecionar os índices para o conjunto de teste\n",
        "indices_treino = indices_embaralhados[num_amostras_teste:] # Selecionar os índices para o conjunto de treinamento\n",
        "\n",
        "# Dividir os dados em conjuntos de treinamento e teste\n",
        "X_treino = X[indices_treino]\n",
        "X_teste = X[indices_teste]\n",
        "y_treino = y[indices_treino]\n",
        "y_teste = y[indices_teste]\n",
        "y_teste"
      ],
      "metadata": {
        "colab": {
          "base_uri": "https://localhost:8080/"
        },
        "outputId": "0d28b516-9d3f-4c9b-b7ac-af0850ff9684",
        "id": "4aSlbMLLhoBa"
      },
      "execution_count": 311,
      "outputs": [
        {
          "output_type": "execute_result",
          "data": {
            "text/plain": [
              "array([[-1, -1, -1, -1, -1,  1, -1],\n",
              "       [-1,  1, -1, -1, -1, -1, -1]])"
            ]
          },
          "metadata": {},
          "execution_count": 311
        }
      ]
    },
    {
      "cell_type": "code",
      "source": [
        "\n",
        "# Treinamento do modelo\n",
        "model = MLP(tamanho_entrada = 63, tamanho_escondida = 18, tamanho_saida = 7) #promissores: 13, 18, 23\n",
        "model.train(X= X_treino,y= y_treino, epochs= 50000, taxa_aprendizado= 0.1)\n",
        "\n",
        "# Chamada da execucao do algoritmo treinado\n",
        "res = model.feedforward(X_teste)\n",
        "resp = np.round(res)\n",
        "print(resp)\n",
        "print(\"Erro teste: %.2f\" %(np.mean(abs(y_teste - res))*100) + \"%\")\n"
      ],
      "metadata": {
        "id": "XvDI7D9shoBb"
      },
      "execution_count": null,
      "outputs": []
    },
    {
      "cell_type": "markdown",
      "source": [
        "#### Com Parada Antecipada"
      ],
      "metadata": {
        "id": "0ilmdhiX6RT0"
      }
    },
    {
      "cell_type": "code",
      "source": [
        "# Importando arquivos\n",
        "df = pd.read_csv(\"https://raw.githubusercontent.com/julioferreirah/Trabalho-IA/main/caracteres-limpo.csv\", header=None)\n",
        "\n",
        "# Criando vetores\n",
        "X = df.iloc[:, :-7].values  # Seleciona todas as colunas, exceto as 7 últimas, para X - dados\n",
        "y = df.iloc[:, -7:].values  # Seleciona as 7 últimas coluna para y - resposta\n",
        "\n",
        "# Separando conjunto de teste - 10%\n",
        "num_amostras_teste = int(X.shape[0] * 0.1)\n",
        "num_amostras_validacao = int(X.shape[0] * 0.1)\n",
        "indices_embaralhados = np.random.permutation(X.shape[0]) # Embaralhar os índices das amostras\n",
        "indices_teste = indices_embaralhados[:num_amostras_teste] # Selecionar os índices para o conjunto de teste\n",
        "indices_validacao = indices_embaralhados[num_amostras_teste:num_amostras_teste+num_amostras_validacao] # Selecionar os índices para o conjunto de validação\n",
        "indices_treino = indices_embaralhados[num_amostras_teste+num_amostras_validacao:] # Selecionar os índices para o conjunto de treinamento\n",
        "\n",
        "# Dividir os dados em conjuntos de treinamento e teste\n",
        "X_treino = X[indices_treino]\n",
        "X_validacao = X[indices_validacao]\n",
        "X_teste = X[indices_teste]\n",
        "y_treino = y[indices_treino]\n",
        "y_validacao = y[indices_validacao]\n",
        "y_teste = y[indices_teste]\n",
        "y_teste"
      ],
      "metadata": {
        "id": "HQGOfFzi6RUS"
      },
      "execution_count": null,
      "outputs": []
    },
    {
      "cell_type": "code",
      "source": [
        "\n",
        "# Treinamento do modelo\n",
        "model = MLPpa(tamanho_entrada = 63, tamanho_escondida = 29, tamanho_saida = 7) #promissores: 14,17,19, 29\n",
        "model.train(X_treino, y_treino, epochs=50000, taxa_aprendizado=0.1, X_validacao=X_validacao, y_validacao=y_validacao)\n",
        "\n",
        "# Chamada da execucao do algoritmo treinado\n",
        "res = model.feedforward(X_teste)\n",
        "resp = np.round(res)\n",
        "print(resp)\n",
        "print(\"Erro teste: %.2f\" %(np.mean(abs(y_teste - res))*100) + \"%\")\n"
      ],
      "metadata": {
        "id": "y4WBls6h6RUT"
      },
      "execution_count": null,
      "outputs": []
    }
  ]
}