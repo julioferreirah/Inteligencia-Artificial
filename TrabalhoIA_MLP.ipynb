{
  "nbformat": 4,
  "nbformat_minor": 0,
  "metadata": {
    "colab": {
      "provenance": [],
      "include_colab_link": true
    },
    "kernelspec": {
      "name": "python3",
      "display_name": "Python 3"
    },
    "language_info": {
      "name": "python"
    }
  },
  "cells": [
    {
      "cell_type": "markdown",
      "metadata": {
        "id": "view-in-github",
        "colab_type": "text"
      },
      "source": [
        "<a href=\"https://colab.research.google.com/github/julioferreirah/Inteligencia-Artificial/blob/main/TrabalhoIA_MLP.ipynb\" target=\"_parent\"><img src=\"https://colab.research.google.com/assets/colab-badge.svg\" alt=\"Open In Colab\"/></a>"
      ]
    },
    {
      "cell_type": "markdown",
      "source": [
        "# Trabalho de Inteligência Artificial - Implementação de MLP"
      ],
      "metadata": {
        "id": "ATXSCBf5_w49"
      }
    },
    {
      "cell_type": "markdown",
      "source": [
        " ### Importando Bibliotecas\n"
      ],
      "metadata": {
        "id": "keioPO5nxqm6"
      }
    },
    {
      "cell_type": "code",
      "source": [
        "import numpy as np\n",
        "import time as t\n",
        "import matplotlib.pyplot as plt\n",
        "%matplotlib inline\n",
        "import pandas as pd"
      ],
      "metadata": {
        "id": "eaFUUzkZxuct"
      },
      "execution_count": 6,
      "outputs": []
    },
    {
      "cell_type": "markdown",
      "source": [
        "## Modelo"
      ],
      "metadata": {
        "id": "pD5VsiaKATDT"
      }
    },
    {
      "cell_type": "markdown",
      "source": [
        "### Modelo sem parada antecipada"
      ],
      "metadata": {
        "id": "rsgpc7G35FJq"
      }
    },
    {
      "cell_type": "code",
      "source": [
        "# Função de ativação tangente hiperbólica\n",
        "def tanh(x):\n",
        "    return np.tanh(x)\n",
        "\n",
        "# Função de perda - Erro Quadrático Médio\n",
        "def erro_quadratico(y_dado, y_predito):\n",
        "    return np.mean((y_dado - y_predito) ** 2)\n",
        "\n",
        "class MLP:\n",
        "    def __init__(self, tamanho_entrada, tamanho_escondida, tamanho_saida):\n",
        "        # Inicialização dos pesos\n",
        "        self.W1 = np.random.randn(tamanho_entrada, tamanho_escondida)\n",
        "        self.b1 = np.zeros((1, tamanho_escondida))\n",
        "        self.W2 = np.random.randn(tamanho_escondida, tamanho_saida)\n",
        "        self.b2 = np.zeros((1, tamanho_saida))\n",
        "\n",
        "    def feedforward(self, X):\n",
        "        # Camada oculta\n",
        "        self.z1 = np.dot(X, self.W1) + self.b1\n",
        "        self.a1 = tanh(self.z1)\n",
        "\n",
        "        # Camada de saída\n",
        "        self.z2 = np.dot(self.a1, self.W2) + self.b2\n",
        "        self.a2 = tanh(self.z2)\n",
        "\n",
        "        return self.a2\n",
        "\n",
        "    def backpropagation(self, X, y, y_predito, taxa_aprendizado):\n",
        "        # Gradiente da camada de saída\n",
        "        delta2 = (y_predito - y) * (1 - tanh(self.z2) ** 2)\n",
        "        dW2 = np.dot(self.a1.T, delta2)\n",
        "        db2 = delta2.sum(axis=0, keepdims=True)\n",
        "\n",
        "        # Gradiente da camada oculta\n",
        "        delta1 = np.dot(delta2, self.W2.T) * (1 - tanh(self.z1) ** 2)\n",
        "        dW1 = np.dot(X.T, delta1)\n",
        "        db1 = delta1.sum(axis=0)\n",
        "\n",
        "        # Atualização dos pesos\n",
        "        self.W2 -= taxa_aprendizado * dW2\n",
        "        self.b2 -= taxa_aprendizado * db2\n",
        "        self.W1 -= taxa_aprendizado * dW1\n",
        "        self.b1 -= taxa_aprendizado * db1\n",
        "\n",
        "    def train(self, X, y, epochs, taxa_aprendizado):\n",
        "        v = []\n",
        "        for  i in range(epochs) :\n",
        "            # Feedforward\n",
        "            y_predito = self.feedforward(X)\n",
        "\n",
        "            # Backpropagation\n",
        "            self.backpropagation(X, y, y_predito, taxa_aprendizado)\n",
        "\n",
        "            # Cálculo do erro\n",
        "            loss = erro_quadratico(y, y_predito)\n",
        "\n",
        "            #registra erro pro plot\n",
        "            v.append(loss)\n",
        "\n",
        "            # condição parada - erro\n",
        "            if float(loss) < 0.005:\n",
        "              print(\"Para por minimização de erro\")\n",
        "              break\n",
        "\n",
        "            # condição parada - aprendizagem\n",
        "            if i % 100 == 0:\n",
        "              taxa_aprendizado = taxa_aprendizado*0.99\n",
        "            if float(taxa_aprendizado) < 0.001:\n",
        "              print(\"Para por taxa de aprendizado muito baixa\")\n",
        "              break\n",
        "\n",
        "\n",
        "        #quando parou\n",
        "        print(\"Parada na época \", i +1)\n",
        "        print(\"Taxa de aprendizado \", taxa_aprendizado)\n",
        "\n",
        "        #plot do erro\n",
        "        plt.plot(range(0, i+1), v)\n",
        "        plt.xlabel('Épocas')\n",
        "        plt.ylabel('Erro Quadrático Médio')\n",
        "        plt.title('Histórico de Erro durante o Treinamento')\n",
        "        plt.show()\n"
      ],
      "metadata": {
        "id": "IudmdQrGxx75"
      },
      "execution_count": 8,
      "outputs": []
    },
    {
      "cell_type": "markdown",
      "source": [
        "### Modelo com parada antecipada"
      ],
      "metadata": {
        "id": "DFb7rWblMRcz"
      }
    },
    {
      "cell_type": "code",
      "source": [
        "# Função de ativação tangente hiperbólica\n",
        "def tanh(x):\n",
        "    return np.tanh(x)\n",
        "\n",
        "# Função de perda - Erro Quadrático Médio\n",
        "def erro_quadratico(y_dado, y_predito):\n",
        "    return np.mean((y_dado - y_predito) ** 2)\n",
        "\n",
        "class MLPpa:\n",
        "    def __init__(self, tamanho_entrada, tamanho_escondida, tamanho_saida):\n",
        "        # Inicialização dos pesos\n",
        "        self.W1 = np.random.randn(tamanho_entrada, tamanho_escondida)\n",
        "        self.b1 = np.zeros((1, tamanho_escondida))\n",
        "        self.W2 = np.random.randn(tamanho_escondida, tamanho_saida)\n",
        "        self.b2 = np.zeros((1, tamanho_saida))\n",
        "\n",
        "    def feedforward(self, X):\n",
        "        # Camada oculta\n",
        "        self.z1 = np.dot(X, self.W1) + self.b1\n",
        "        self.a1 = tanh(self.z1)\n",
        "\n",
        "        # Camada de saída\n",
        "        self.z2 = np.dot(self.a1, self.W2) + self.b2\n",
        "        self.a2 = tanh(self.z2)\n",
        "\n",
        "        return self.a2\n",
        "\n",
        "    def backpropagation(self, X, y, y_predito, taxa_aprendizado):\n",
        "        # Gradiente da camada de saída\n",
        "        delta2 = (y_predito - y) * (1 - tanh(self.z2) ** 2)\n",
        "        dW2 = np.dot(self.a1.T, delta2)\n",
        "        db2 = delta2.sum(axis=0, keepdims=True)\n",
        "\n",
        "        # Gradiente da camada oculta\n",
        "        delta1 = np.dot(delta2, self.W2.T) * (1 - tanh(self.z1) ** 2)\n",
        "        dW1 = np.dot(X.T, delta1)\n",
        "        db1 = delta1.sum(axis=0)\n",
        "\n",
        "        # Atualização dos pesos\n",
        "        self.W2 -= taxa_aprendizado * dW2\n",
        "        self.b2 -= taxa_aprendizado * db2\n",
        "        self.W1 -= taxa_aprendizado * dW1\n",
        "        self.b1 -= taxa_aprendizado * db1\n",
        "\n",
        "    def train(self, X, y, epochs, taxa_aprendizado, X_validacao, y_validacao):\n",
        "        v_treino = []\n",
        "        v_validacao = []\n",
        "        paciencia = 0\n",
        "        dif = 0\n",
        "\n",
        "        for i in range(epochs):\n",
        "            # Feedforward\n",
        "            y_predito = self.feedforward(X)\n",
        "\n",
        "            # Backpropagation\n",
        "            self.backpropagation(X, y, y_predito, taxa_aprendizado)\n",
        "\n",
        "            # Cálculo do erro\n",
        "            loss_treino = erro_quadratico(y, y_predito)\n",
        "            loss_validacao = erro_quadratico(y_validacao, self.feedforward(X_validacao))\n",
        "\n",
        "            # Calculo da diferença entre validacao e treino + atualização da paciencia\n",
        "            difn = loss_validacao - loss_treino\n",
        "            if difn > dif and difn > 0:\n",
        "                paciencia += 1\n",
        "            else:\n",
        "                paciencia = 0\n",
        "            dif = difn\n",
        "\n",
        "            # Condição de parada antecipada - diferença aumentou por 50 vezes seguidas\n",
        "            if paciencia >= 50:\n",
        "                print(\"Parada antecipada\")\n",
        "                break\n",
        "\n",
        "            # Registro dos erros para o plot\n",
        "            v_treino.append(loss_treino)\n",
        "            v_validacao.append(loss_validacao)\n",
        "\n",
        "            # condição parada - erro\n",
        "            if float(loss_treino) < 0.005:\n",
        "              print(\"Para por minimização de erro\")\n",
        "              i +=1\n",
        "              break\n",
        "\n",
        "            # condição parada - aprendizagem\n",
        "            if i % 100 == 0:\n",
        "              taxa_aprendizado = taxa_aprendizado*0.99\n",
        "            if float(taxa_aprendizado) < 0.001:\n",
        "              print(\"Para por taxa de aprendizado muito baixa\")\n",
        "              i +=1\n",
        "              break\n",
        "\n",
        "        # Quando parou\n",
        "        print(\"Parada na época\", i )\n",
        "        print(\"Taxa de aprendizado\", taxa_aprendizado)\n",
        "\n",
        "        # Plot do erro de treinamento e validação\n",
        "        plt.plot(range(0, i), v_treino, label='Treinamento')\n",
        "        plt.plot(range(0, i ), v_validacao, label='Validação')\n",
        "        plt.xlabel('Épocas')\n",
        "        plt.ylabel('Erro Quadrático Médio')\n",
        "        plt.title('Histórico de Erro durante o Treinamento')\n",
        "        plt.legend()\n",
        "        plt.show()\n"
      ],
      "metadata": {
        "id": "UKC5JCgK6pcj"
      },
      "execution_count": 14,
      "outputs": []
    },
    {
      "cell_type": "markdown",
      "source": [
        "#Aplicação do Modelo"
      ],
      "metadata": {
        "id": "meFf1pvvy6Rx"
      }
    },
    {
      "cell_type": "markdown",
      "source": [
        "## Portas Lógicas"
      ],
      "metadata": {
        "id": "g6j1bsirh_-z"
      }
    },
    {
      "cell_type": "markdown",
      "source": [
        "###Problema do AND"
      ],
      "metadata": {
        "id": "c8fFlDya00Vj"
      }
    },
    {
      "cell_type": "code",
      "source": [
        "# Importando arquivos\n",
        "df = pd.read_csv(\"https://raw.githubusercontent.com/julioferreirah/Trabalho-IA/main/problemAND.csv\", header=None, prefix='c')\n",
        "\n",
        "# Criando vetores\n",
        "X = df.iloc[:, :-1].values  # Seleciona todas as colunas, exceto a última, para X\n",
        "y_raw = df.iloc[:, -1].values  # Seleciona a última coluna para y\n",
        "\n",
        "# Formatando y como uma matriz de coluna\n",
        "y = y_raw.reshape(-1, 1)\n"
      ],
      "metadata": {
        "id": "PbusencL9Ifg"
      },
      "execution_count": null,
      "outputs": []
    },
    {
      "cell_type": "code",
      "source": [
        "\n",
        "# Treinamento do modelo\n",
        "model = MLP(tamanho_entrada = 2, tamanho_escondida = 1, tamanho_saida = 1)\n",
        "print(model.train(X= X,y= y, epochs= 100, taxa_aprendizado= 0.1))\n",
        "\n",
        "# Chamada da execucao do algoritmo treinado\n",
        "a = model.feedforward(X)\n",
        "print(a)\n",
        "print(np.round(a))\n"
      ],
      "metadata": {
        "id": "5mhsWlbIy9Mf"
      },
      "execution_count": null,
      "outputs": []
    },
    {
      "cell_type": "markdown",
      "source": [
        "###Problema do OR"
      ],
      "metadata": {
        "id": "7760I3HsLlsc"
      }
    },
    {
      "cell_type": "code",
      "source": [
        "# Importando arquivos\n",
        "df = pd.read_csv(\"https://raw.githubusercontent.com/julioferreirah/Trabalho-IA/main/problemOR.csv\", header=None, prefix='c')\n",
        "\n",
        "# Criando vetores\n",
        "X = df.iloc[:, :-1].values  # Seleciona todas as colunas, exceto a última, para X\n",
        "y_raw = df.iloc[:, -1].values  # Seleciona a última coluna para y\n",
        "\n",
        "# Formatando y como uma matriz de coluna\n",
        "y = y_raw.reshape(-1, 1)\n"
      ],
      "metadata": {
        "id": "Da1MURRlLls_"
      },
      "execution_count": null,
      "outputs": []
    },
    {
      "cell_type": "code",
      "source": [
        "\n",
        "# Treinamento do modelo\n",
        "model = MLP(tamanho_entrada = 2, tamanho_escondida = 1, tamanho_saida = 1)\n",
        "print(model.train(X= X,y= y, epochs= 100, taxa_aprendizado= 0.1))\n",
        "\n",
        "# Chamada da execucao do algoritmo treinado\n",
        "a = model.feedforward(X)\n",
        "print(a)\n",
        "print(np.round(a))\n"
      ],
      "metadata": {
        "id": "2fBKwzGvLltB"
      },
      "execution_count": null,
      "outputs": []
    },
    {
      "cell_type": "markdown",
      "source": [
        "###Problema do XOR"
      ],
      "metadata": {
        "id": "j0zL0iJoKaCq"
      }
    },
    {
      "cell_type": "code",
      "source": [
        "# Importando arquivos\n",
        "df = pd.read_csv(\"https://raw.githubusercontent.com/julioferreirah/Trabalho-IA/main/problemXOR.csv\", header=None, prefix='c')\n",
        "\n",
        "# Criando vetores\n",
        "X = df.iloc[:, :-1].values  # Seleciona todas as colunas, exceto a última, para X\n",
        "y_raw = df.iloc[:, -1].values  # Seleciona a última coluna para y\n",
        "\n",
        "# Formatando y como uma matriz de coluna\n",
        "y = y_raw.reshape(-1, 1)\n",
        "\n",
        "# Verificando as dimensões\n",
        "print(\"Dimensões de X:\", X.shape)\n",
        "print(\"Dimensões de y:\", y.shape)\n"
      ],
      "metadata": {
        "id": "ljVUmFeEKaC0"
      },
      "execution_count": null,
      "outputs": []
    },
    {
      "cell_type": "code",
      "source": [
        "\n",
        "# Treinamento do modelo\n",
        "model = MLP(tamanho_entrada = 2, tamanho_escondida = 3, tamanho_saida = 1)\n",
        "model.train(X= X,y= y, epochs= 500, taxa_aprendizado= 0.1)\n",
        "\n",
        "# Chamada da execucao do algoritmo treinado\n",
        "a = model.feedforward(X)\n",
        "print(a)\n",
        "print(np.round(a))\n",
        "print(\"Erro médio de teste: %.2f\" %(np.mean(abs(y - a))*100) + \"%\")"
      ],
      "metadata": {
        "id": "56YC8e4Xc36Y"
      },
      "execution_count": null,
      "outputs": []
    },
    {
      "cell_type": "markdown",
      "source": [
        "## Caracteres"
      ],
      "metadata": {
        "id": "tpzvNAYEiJnz"
      }
    },
    {
      "cell_type": "markdown",
      "source": [
        "### Sem Validação Cruzada"
      ],
      "metadata": {
        "id": "TsfeLnAThoA4"
      }
    },
    {
      "cell_type": "markdown",
      "source": [
        "#### Sem Parada Antecipada"
      ],
      "metadata": {
        "id": "6DIiU_K9ivzD"
      }
    },
    {
      "cell_type": "markdown",
      "source": [
        "##### Sem ruído"
      ],
      "metadata": {
        "id": "ALOBtwTZY0Ig"
      }
    },
    {
      "cell_type": "code",
      "source": [
        "# Importando arquivos\n",
        "df = pd.read_csv(\"https://raw.githubusercontent.com/julioferreirah/Trabalho-IA/main/caracteres-limpo.csv\", header=None)\n",
        "\n",
        "# Criando vetores\n",
        "X = df.iloc[:, :-7].values  # Seleciona todas as colunas, exceto as 7 últimas, para X - dados\n",
        "y = df.iloc[:, -7:].values  # Seleciona as 7 últimas coluna para y - resposta\n",
        "\n",
        "# Separando conjunto de teste - 10%\n",
        "num_amostras_teste = int(X.shape[0] * 0.1)\n",
        "indices_embaralhados = np.random.permutation(X.shape[0]) # Embaralhar os índices das amostras\n",
        "indices_teste = indices_embaralhados[:num_amostras_teste] # Selecionar os índices para o conjunto de teste\n",
        "indices_treino = indices_embaralhados[num_amostras_teste:] # Selecionar os índices para o conjunto de treinamento\n",
        "\n",
        "# Dividir os dados em conjuntos de treinamento e teste\n",
        "X_treino = X[indices_treino]\n",
        "X_teste = X[indices_teste]\n",
        "y_treino = y[indices_treino]\n",
        "y_teste = y[indices_teste]\n",
        "y_teste"
      ],
      "metadata": {
        "colab": {
          "base_uri": "https://localhost:8080/"
        },
        "outputId": "a23be8bb-4000-49d6-b1dd-06aac4ec31f1",
        "id": "4aSlbMLLhoBa"
      },
      "execution_count": 20,
      "outputs": [
        {
          "output_type": "execute_result",
          "data": {
            "text/plain": [
              "array([[-1, -1, -1, -1, -1, -1,  1],\n",
              "       [-1,  1, -1, -1, -1, -1, -1]])"
            ]
          },
          "metadata": {},
          "execution_count": 20
        }
      ]
    },
    {
      "cell_type": "code",
      "source": [
        "\n",
        "# Treinamento do modelo\n",
        "model = MLP(tamanho_entrada = 63, tamanho_escondida = 18, tamanho_saida = 7) #promissores: 13, 18, 23\n",
        "model.train(X= X_treino,y= y_treino, epochs= 50000, taxa_aprendizado= 0.1)\n",
        "\n",
        "# Chamada da execucao do algoritmo treinado\n",
        "res = model.feedforward(X_teste)\n",
        "resp = np.round(res)\n",
        "print(resp)\n",
        "print(\"Erro teste: %.2f\" %(np.mean(abs(y_teste - res))*100) + \"%\")\n"
      ],
      "metadata": {
        "id": "XvDI7D9shoBb"
      },
      "execution_count": null,
      "outputs": []
    },
    {
      "cell_type": "markdown",
      "source": [
        "##### Com ruido 1"
      ],
      "metadata": {
        "id": "RssOV8EDZs63"
      }
    },
    {
      "cell_type": "code",
      "source": [
        "# Importando arquivos\n",
        "df = pd.read_csv(\"https://raw.githubusercontent.com/julioferreirah/Trabalho-IA/main/caracteres-ruido.csv\", header=None)\n",
        "\n",
        "# Criando vetores\n",
        "X = df.iloc[:, :-7].values  # Seleciona todas as colunas, exceto as 7 últimas, para X - dados\n",
        "y = df.iloc[:, -7:].values  # Seleciona as 7 últimas coluna para y - resposta\n",
        "\n",
        "# Separando conjunto de teste - 10%\n",
        "num_amostras_teste = int(X.shape[0] * 0.1)\n",
        "indices_embaralhados = np.random.permutation(X.shape[0]) # Embaralhar os índices das amostras\n",
        "indices_teste = indices_embaralhados[:num_amostras_teste] # Selecionar os índices para o conjunto de teste\n",
        "indices_treino = indices_embaralhados[num_amostras_teste:] # Selecionar os índices para o conjunto de treinamento\n",
        "\n",
        "# Dividir os dados em conjuntos de treinamento e teste\n",
        "X_treino = X[indices_treino]\n",
        "X_teste = X[indices_teste]\n",
        "y_treino = y[indices_treino]\n",
        "y_teste = y[indices_teste]\n",
        "y_teste"
      ],
      "metadata": {
        "colab": {
          "base_uri": "https://localhost:8080/"
        },
        "outputId": "0d28b516-9d3f-4c9b-b7ac-af0850ff9684",
        "id": "D8YQGvpjZ1bW"
      },
      "execution_count": null,
      "outputs": [
        {
          "output_type": "execute_result",
          "data": {
            "text/plain": [
              "array([[-1, -1, -1, -1, -1,  1, -1],\n",
              "       [-1,  1, -1, -1, -1, -1, -1]])"
            ]
          },
          "metadata": {},
          "execution_count": 311
        }
      ]
    },
    {
      "cell_type": "code",
      "source": [
        "\n",
        "# Treinamento do modelo\n",
        "model = MLP(tamanho_entrada = 63, tamanho_escondida = 18, tamanho_saida = 7) #promissores: 13, 18, 23\n",
        "model.train(X= X_treino,y= y_treino, epochs= 50000, taxa_aprendizado= 0.1)\n",
        "\n",
        "# Chamada da execucao do algoritmo treinado\n",
        "res = model.feedforward(X_teste)\n",
        "resp = np.round(res)\n",
        "print(resp)\n",
        "print(\"Erro teste: %.2f\" %(np.mean(abs(y_teste - res))*100) + \"%\")\n"
      ],
      "metadata": {
        "id": "S1RzM6Z7Z1bX"
      },
      "execution_count": null,
      "outputs": []
    },
    {
      "cell_type": "markdown",
      "source": [
        "##### Com ruido 2"
      ],
      "metadata": {
        "id": "8gsMXFNUZn_A"
      }
    },
    {
      "cell_type": "code",
      "source": [
        "# Importando arquivos\n",
        "df = pd.read_csv(\"https://raw.githubusercontent.com/julioferreirah/Trabalho-IA/main/caracteres_ruido20.csv\", header=None)\n",
        "\n",
        "# Criando vetores\n",
        "X = df.iloc[:, :-7].values  # Seleciona todas as colunas, exceto as 7 últimas, para X - dados\n",
        "y = df.iloc[:, -7:].values  # Seleciona as 7 últimas coluna para y - resposta\n",
        "\n",
        "# Separando conjunto de teste - 10%\n",
        "num_amostras_teste = int(X.shape[0] * 0.1)\n",
        "indices_embaralhados = np.random.permutation(X.shape[0]) # Embaralhar os índices das amostras\n",
        "indices_teste = indices_embaralhados[:num_amostras_teste] # Selecionar os índices para o conjunto de teste\n",
        "indices_treino = indices_embaralhados[num_amostras_teste:] # Selecionar os índices para o conjunto de treinamento\n",
        "\n",
        "# Dividir os dados em conjuntos de treinamento e teste\n",
        "X_treino = X[indices_treino]\n",
        "X_teste = X[indices_teste]\n",
        "y_treino = y[indices_treino]\n",
        "y_teste = y[indices_teste]\n",
        "y_teste"
      ],
      "metadata": {
        "colab": {
          "base_uri": "https://localhost:8080/"
        },
        "outputId": "f145b78a-1cc2-4bba-8b59-e95f950a2057",
        "id": "CrnBEZZuZiPT"
      },
      "execution_count": 360,
      "outputs": [
        {
          "output_type": "execute_result",
          "data": {
            "text/plain": [
              "array([[-1, -1, -1, -1, -1,  1, -1],\n",
              "       [-1,  1, -1, -1, -1, -1, -1]])"
            ]
          },
          "metadata": {},
          "execution_count": 360
        }
      ]
    },
    {
      "cell_type": "code",
      "source": [
        "\n",
        "# Treinamento do modelo\n",
        "model = MLP(tamanho_entrada = 63, tamanho_escondida = 18, tamanho_saida = 7) #promissores: 13, 18, 23\n",
        "model.train(X= X_treino,y= y_treino, epochs= 50000, taxa_aprendizado= 0.1)\n",
        "\n",
        "# Chamada da execucao do algoritmo treinado\n",
        "res = model.feedforward(X_teste)\n",
        "resp = np.round(res)\n",
        "print(resp)\n",
        "print(\"Erro teste: %.2f\" %(np.mean(abs(y_teste - res))*100) + \"%\")\n"
      ],
      "metadata": {
        "colab": {
          "base_uri": "https://localhost:8080/",
          "height": 585
        },
        "id": "tjPxy4W-ZiPU",
        "outputId": "3e9eab7e-db02-4909-de43-edf76ce09d53"
      },
      "execution_count": 361,
      "outputs": [
        {
          "output_type": "stream",
          "name": "stdout",
          "text": [
            "Para por taxa de aprendizado muito baixa\n",
            "Parada na época  45801\n",
            "Taxa de aprendizado  0.0009920974201040604\n"
          ]
        },
        {
          "output_type": "display_data",
          "data": {
            "text/plain": [
              "<Figure size 640x480 with 1 Axes>"
            ],
            "image/png": "[encoded data removed]"
          },
          "metadata": {}
        },
        {
          "output_type": "stream",
          "name": "stdout",
          "text": [
            "[[-1. -1. -1.  1. -1. -1. -1.]\n",
            " [-1. -1. -1. -1. -1. -1. -1.]]\n",
            "Erro teste: 41.83%\n"
          ]
        }
      ]
    },
    {
      "cell_type": "markdown",
      "source": [
        "#### Com Parada Antecipada"
      ],
      "metadata": {
        "id": "0ilmdhiX6RT0"
      }
    },
    {
      "cell_type": "markdown",
      "source": [
        "##### Sem ruído"
      ],
      "metadata": {
        "id": "FGkxV-uRakYO"
      }
    },
    {
      "cell_type": "code",
      "source": [
        "# Importando arquivos\n",
        "df = pd.read_csv(\"https://raw.githubusercontent.com/julioferreirah/Trabalho-IA/main/caracteres-limpo.csv\", header=None)\n",
        "\n",
        "# Criando vetores\n",
        "X = df.iloc[:, :-7].values  # Seleciona todas as colunas, exceto as 7 últimas, para X - dados\n",
        "y = df.iloc[:, -7:].values  # Seleciona as 7 últimas coluna para y - resposta\n",
        "\n",
        "# Separando conjunto de teste e validacao - 10% cada\n",
        "num_amostras_teste = int(X.shape[0] * 0.1)\n",
        "num_amostras_validacao = int(X.shape[0] * 0.1)\n",
        "indices_embaralhados = np.random.permutation(X.shape[0]) # Embaralhar os índices das amostras\n",
        "indices_teste = indices_embaralhados[:num_amostras_teste] # Selecionar os índices para o conjunto de teste\n",
        "indices_validacao = indices_embaralhados[num_amostras_teste:num_amostras_teste+num_amostras_validacao] # Selecionar os índices para o conjunto de validação\n",
        "indices_treino = indices_embaralhados[num_amostras_teste+num_amostras_validacao:] # Selecionar os índices para o conjunto de treinamento\n",
        "\n",
        "# Dividir os dados em conjuntos de treinamento e teste\n",
        "X_treino = X[indices_treino]\n",
        "X_validacao = X[indices_validacao]\n",
        "X_teste = X[indices_teste]\n",
        "y_treino = y[indices_treino]\n",
        "y_validacao = y[indices_validacao]\n",
        "y_teste = y[indices_teste]\n",
        "y_teste"
      ],
      "metadata": {
        "id": "HQGOfFzi6RUS"
      },
      "execution_count": null,
      "outputs": []
    },
    {
      "cell_type": "code",
      "source": [
        "\n",
        "# Treinamento do modelo\n",
        "model = MLPpa(tamanho_entrada = 63, tamanho_escondida = 29, tamanho_saida = 7) #promissores: 14,17,19, 29\n",
        "model.train(X_treino, y_treino, epochs=50000, taxa_aprendizado=0.1, X_validacao=X_validacao, y_validacao=y_validacao)\n",
        "\n",
        "# Chamada da execucao do algoritmo treinado\n",
        "res = model.feedforward(X_teste)\n",
        "resp = np.round(res)\n",
        "print(resp)\n",
        "print(\"Erro teste: %.2f\" %(np.mean(abs(y_teste - res))*100) + \"%\")\n"
      ],
      "metadata": {
        "id": "y4WBls6h6RUT"
      },
      "execution_count": null,
      "outputs": []
    },
    {
      "cell_type": "markdown",
      "source": [
        "##### Com ruído 1"
      ],
      "metadata": {
        "id": "whVQy25yau4t"
      }
    },
    {
      "cell_type": "code",
      "source": [
        "# Importando arquivos\n",
        "df = pd.read_csv(\"https://raw.githubusercontent.com/julioferreirah/Trabalho-IA/main/caracteres-ruido.csv\", header=None)\n",
        "\n",
        "# Criando vetores\n",
        "X = df.iloc[:, :-7].values  # Seleciona todas as colunas, exceto as 7 últimas, para X - dados\n",
        "y = df.iloc[:, -7:].values  # Seleciona as 7 últimas coluna para y - resposta\n",
        "\n",
        "# Separando conjunto de teste e validacao - 10% cada\n",
        "num_amostras_teste = int(X.shape[0] * 0.1)\n",
        "num_amostras_validacao = int(X.shape[0] * 0.1)\n",
        "indices_embaralhados = np.random.permutation(X.shape[0]) # Embaralhar os índices das amostras\n",
        "indices_teste = indices_embaralhados[:num_amostras_teste] # Selecionar os índices para o conjunto de teste\n",
        "indices_validacao = indices_embaralhados[num_amostras_teste:num_amostras_teste+num_amostras_validacao] # Selecionar os índices para o conjunto de validação\n",
        "indices_treino = indices_embaralhados[num_amostras_teste+num_amostras_validacao:] # Selecionar os índices para o conjunto de treinamento\n",
        "\n",
        "# Dividir os dados em conjuntos de treinamento e teste\n",
        "X_treino = X[indices_treino]\n",
        "X_validacao = X[indices_validacao]\n",
        "X_teste = X[indices_teste]\n",
        "y_treino = y[indices_treino]\n",
        "y_validacao = y[indices_validacao]\n",
        "y_teste = y[indices_teste]\n",
        "y_teste"
      ],
      "metadata": {
        "id": "k7L0atffau5N"
      },
      "execution_count": null,
      "outputs": []
    },
    {
      "cell_type": "code",
      "source": [
        "\n",
        "# Treinamento do modelo\n",
        "model = MLPpa(tamanho_entrada = 63, tamanho_escondida = 29, tamanho_saida = 7) #promissores: 14,17,19, 29\n",
        "model.train(X_treino, y_treino, epochs=50000, taxa_aprendizado=0.1, X_validacao=X_validacao, y_validacao=y_validacao)\n",
        "\n",
        "# Chamada da execucao do algoritmo treinado\n",
        "res = model.feedforward(X_teste)\n",
        "resp = np.round(res)\n",
        "print(resp)\n",
        "print(\"Erro teste: %.2f\" %(np.mean(abs(y_teste - res))*100) + \"%\")\n"
      ],
      "metadata": {
        "id": "92-hXoVQau5O"
      },
      "execution_count": null,
      "outputs": []
    },
    {
      "cell_type": "markdown",
      "source": [
        "##### Com ruído 2"
      ],
      "metadata": {
        "id": "_2WkUzY5awlN"
      }
    },
    {
      "cell_type": "code",
      "source": [
        "# Importando arquivos\n",
        "df = pd.read_csv(\"https://raw.githubusercontent.com/julioferreirah/Trabalho-IA/main/caracteres_ruido20.csv\", header=None)\n",
        "\n",
        "# Criando vetores\n",
        "X = df.iloc[:, :-7].values  # Seleciona todas as colunas, exceto as 7 últimas, para X - dados\n",
        "y = df.iloc[:, -7:].values  # Seleciona as 7 últimas coluna para y - resposta\n",
        "\n",
        "# Separando conjunto de teste e validacao - 10% cada\n",
        "num_amostras_teste = int(X.shape[0] * 0.1)\n",
        "num_amostras_validacao = int(X.shape[0] * 0.1)\n",
        "indices_embaralhados = np.random.permutation(X.shape[0]) # Embaralhar os índices das amostras\n",
        "indices_teste = indices_embaralhados[:num_amostras_teste] # Selecionar os índices para o conjunto de teste\n",
        "indices_validacao = indices_embaralhados[num_amostras_teste:num_amostras_teste+num_amostras_validacao] # Selecionar os índices para o conjunto de validação\n",
        "indices_treino = indices_embaralhados[num_amostras_teste+num_amostras_validacao:] # Selecionar os índices para o conjunto de treinamento\n",
        "\n",
        "# Dividir os dados em conjuntos de treinamento e teste\n",
        "X_treino = X[indices_treino]\n",
        "X_validacao = X[indices_validacao]\n",
        "X_teste = X[indices_teste]\n",
        "y_treino = y[indices_treino]\n",
        "y_validacao = y[indices_validacao]\n",
        "y_teste = y[indices_teste]\n",
        "y_teste"
      ],
      "metadata": {
        "id": "3hXwE8U8awlp"
      },
      "execution_count": null,
      "outputs": []
    },
    {
      "cell_type": "code",
      "source": [
        "\n",
        "# Treinamento do modelo\n",
        "model = MLPpa(tamanho_entrada = 63, tamanho_escondida = 29, tamanho_saida = 7) #promissores: 14,17,19, 29\n",
        "model.train(X_treino, y_treino, epochs=50000, taxa_aprendizado=0.1, X_validacao=X_validacao, y_validacao=y_validacao)\n",
        "\n",
        "# Chamada da execucao do algoritmo treinado\n",
        "res = model.feedforward(X_teste)\n",
        "resp = np.round(res)\n",
        "print(resp)\n",
        "print(\"Erro teste: %.2f\" %(np.mean(abs(y_teste - res))*100) + \"%\")\n"
      ],
      "metadata": {
        "id": "Ja8OoQBQawlq"
      },
      "execution_count": null,
      "outputs": []
    },
    {
      "cell_type": "markdown",
      "source": [
        "##### Experimento: juntando tudo"
      ],
      "metadata": {
        "id": "CKv50o3UbVO2"
      }
    },
    {
      "cell_type": "code",
      "source": [
        "# Importando arquivos\n",
        "df1 = pd.read_csv(\"https://raw.githubusercontent.com/julioferreirah/Trabalho-IA/main/caracteres-limpo.csv\", header=None)\n",
        "df2 = pd.read_csv(\"https://raw.githubusercontent.com/julioferreirah/Trabalho-IA/main/caracteres-ruido.csv\", header=None)\n",
        "df3 = pd.read_csv(\"https://raw.githubusercontent.com/julioferreirah/Trabalho-IA/main/caracteres_ruido20.csv\", header=None)\n",
        "df = pd.concat([df1, df2, df3])\n",
        "\n",
        "# Criando vetores\n",
        "X = df.iloc[:, :-7].values  # Seleciona todas as colunas, exceto as 7 últimas, para X - dados\n",
        "y = df.iloc[:, -7:].values  # Seleciona as 7 últimas coluna para y - resposta\n",
        "\n",
        "# Separando conjunto de teste e validacao - 70/20/10\n",
        "num_amostras_teste = int(X.shape[0] * 0.1)\n",
        "num_amostras_validacao = int(X.shape[0] * 0.2)\n",
        "indices_embaralhados = np.random.permutation(X.shape[0]) # Embaralhar os índices das amostras\n",
        "indices_teste = indices_embaralhados[:num_amostras_teste] # Selecionar os índices para o conjunto de teste\n",
        "indices_validacao = indices_embaralhados[num_amostras_teste:num_amostras_teste+num_amostras_validacao] # Selecionar os índices para o conjunto de validação\n",
        "indices_treino = indices_embaralhados[num_amostras_teste+num_amostras_validacao:] # Selecionar os índices para o conjunto de treinamento\n",
        "\n",
        "# Dividir os dados em conjuntos de treinamento e teste\n",
        "X_treino = X[indices_treino]\n",
        "X_validacao = X[indices_validacao]\n",
        "X_teste = X[indices_teste]\n",
        "y_treino = y[indices_treino]\n",
        "y_validacao = y[indices_validacao]\n",
        "y_teste = y[indices_teste]\n",
        "y_teste"
      ],
      "metadata": {
        "colab": {
          "base_uri": "https://localhost:8080/"
        },
        "id": "zaIm7uembVPP",
        "outputId": "84f48436-75f2-4931-905c-5f5b15ab1ef5"
      },
      "execution_count": 363,
      "outputs": [
        {
          "output_type": "execute_result",
          "data": {
            "text/plain": [
              "array([[-1, -1, -1, -1, -1, -1,  1],\n",
              "       [-1, -1,  1, -1, -1, -1, -1],\n",
              "       [-1, -1, -1,  1, -1, -1, -1],\n",
              "       [-1, -1, -1, -1, -1,  1, -1],\n",
              "       [-1, -1, -1,  1, -1, -1, -1],\n",
              "       [-1, -1, -1, -1,  1, -1, -1]])"
            ]
          },
          "metadata": {},
          "execution_count": 363
        }
      ]
    },
    {
      "cell_type": "code",
      "source": [
        "\n",
        "# Treinamento do modelo\n",
        "model = MLPpa(tamanho_entrada = 63, tamanho_escondida = 25, tamanho_saida = 7) #promissores: 17,25,26,27\n",
        "model.train(X_treino, y_treino, epochs=50000, taxa_aprendizado=0.1, X_validacao=X_validacao, y_validacao=y_validacao)\n",
        "\n",
        "# Chamada da execucao do algoritmo treinado\n",
        "res = model.feedforward(X_teste)\n",
        "resp = np.round(res)\n",
        "print(resp)\n",
        "print(\"Erro teste: %.2f\" %(np.mean(abs(y_teste - res))*100) + \"%\")\n"
      ],
      "metadata": {
        "colab": {
          "base_uri": "https://localhost:8080/",
          "height": 659
        },
        "id": "RgCkmH51bVPQ",
        "outputId": "3a39fb13-1496-468d-86df-f521825c22c1"
      },
      "execution_count": 373,
      "outputs": [
        {
          "output_type": "stream",
          "name": "stdout",
          "text": [
            "Parada antecipada\n",
            "Parada na época 98\n",
            "Taxa de aprendizado 0.099\n"
          ]
        },
        {
          "output_type": "display_data",
          "data": {
            "text/plain": [
              "<Figure size 640x480 with 1 Axes>"
            ],
            "image/png": "[encoded data removed]"
          },
          "metadata": {}
        },
        {
          "output_type": "stream",
          "name": "stdout",
          "text": [
            "[[-1. -1. -1. -1. -1. -1.  1.]\n",
            " [-1. -1.  1. -1. -1. -1. -1.]\n",
            " [-1. -1. -1. -1. -1. -1. -1.]\n",
            " [-1. -1. -1. -1. -1.  1. -1.]\n",
            " [-1. -1. -1.  1. -1. -1. -1.]\n",
            " [-1. -1. -0. -1.  0. -1. -1.]]\n",
            "Erro teste: 8.08%\n"
          ]
        }
      ]
    },
    {
      "cell_type": "markdown",
      "source": [
        "### Com Validação Cruzada"
      ],
      "metadata": {
        "id": "-H4dSHGOBNhN"
      }
    },
    {
      "cell_type": "markdown",
      "source": [
        "#### Sem Parada Antecipada"
      ],
      "metadata": {
        "id": "lEtifAaGBNh0"
      }
    },
    {
      "cell_type": "markdown",
      "source": [
        "##### Sem ruído"
      ],
      "metadata": {
        "id": "cr5d-fGmBNh0"
      }
    },
    {
      "cell_type": "code",
      "source": [
        "# Importando arquivos\n",
        "df = pd.read_csv(\"https://raw.githubusercontent.com/julioferreirah/Trabalho-IA/main/caracteres-limpo.csv\", header=None)\n",
        "\n",
        "# Criando vetores\n",
        "X = df.iloc[:, :-7].values  # Seleciona todas as colunas, exceto as 7 últimas, para X - dados\n",
        "y = df.iloc[:, -7:].values  # Seleciona as 7 últimas coluna para y - resposta\n",
        "\n",
        "num_folds = 5 # Definindo o número de folds\n",
        "fold_size = len(X) // num_folds # Calculando o tamanho do fold\n",
        "resultados = [] # Inicializando a lista para armazenar os resultados\n",
        "\n",
        "# Realizando a validação cruzada\n",
        "for i in range(num_folds):\n",
        "    # Definindo os índices para o fold atual\n",
        "    start = i * fold_size\n",
        "    end = (i + 1) * fold_size\n",
        "\n",
        "    # Dividindo os dados em treinamento e teste\n",
        "    X_treino = np.concatenate((X[:start], X[end:]), axis=0)\n",
        "    y_treino = np.concatenate((y[:start], y[end:]), axis=0)\n",
        "    X_teste = X[start:end]\n",
        "    y_teste = y[start:end]\n",
        "\n",
        "    # Treinamento do modelo\n",
        "    model = MLP(tamanho_entrada=63, tamanho_escondida=18, tamanho_saida=7)\n",
        "    model.train(X=X_treino, y=y_treino, epochs=50000, taxa_aprendizado=0.1)\n",
        "\n",
        "    # Chamada da execução do algoritmo treinado no conjunto de validação\n",
        "    res = model.feedforward(X_teste)\n",
        "    resp = np.round(res)\n",
        "\n",
        "    # Calculando o erro no conjunto de validação\n",
        "    erro = np.mean(abs(y_teste - res))\n",
        "\n",
        "    # Armazenando o resultado\n",
        "    resultados.append(erro)\n",
        "\n",
        "# Calculando a média dos erros de validação\n",
        "media_erro = np.mean(resultados)\n",
        "\n",
        "# Exibindo o resultado\n",
        "print(\"Erro médio de teste: %.2f\" % (media_erro * 100) + \"%\")\n"
      ],
      "metadata": {
        "id": "FdvYGDsiBNh1"
      },
      "execution_count": null,
      "outputs": []
    },
    {
      "cell_type": "markdown",
      "source": [
        "##### Com ruido 1"
      ],
      "metadata": {
        "id": "Zai3wEGXBNh2"
      }
    },
    {
      "cell_type": "code",
      "source": [
        "# Importando arquivos\n",
        "df = pd.read_csv(\"https://raw.githubusercontent.com/julioferreirah/Trabalho-IA/main/caracteres-ruido.csv\", header=None)\n",
        "\n",
        "# Criando vetores\n",
        "X = df.iloc[:, :-7].values  # Seleciona todas as colunas, exceto as 7 últimas, para X - dados\n",
        "y = df.iloc[:, -7:].values  # Seleciona as 7 últimas coluna para y - resposta\n",
        "\n",
        "num_folds = 5 # Definindo o número de folds\n",
        "fold_size = len(X) // num_folds # Calculando o tamanho do fold\n",
        "resultados = [] # Inicializando a lista para armazenar os resultados\n",
        "\n",
        "# Realizando a validação cruzada\n",
        "for i in range(num_folds):\n",
        "    # Definindo os índices para o fold atual\n",
        "    start = i * fold_size\n",
        "    end = (i + 1) * fold_size\n",
        "\n",
        "    # Dividindo os dados em treinamento e teste\n",
        "    X_treino = np.concatenate((X[:start], X[end:]), axis=0)\n",
        "    y_treino = np.concatenate((y[:start], y[end:]), axis=0)\n",
        "    X_teste = X[start:end]\n",
        "    y_teste = y[start:end]\n",
        "\n",
        "    # Treinamento do modelo\n",
        "    model = MLP(tamanho_entrada=63, tamanho_escondida=18, tamanho_saida=7)\n",
        "    model.train(X=X_treino, y=y_treino, epochs=50000, taxa_aprendizado=0.1)\n",
        "\n",
        "    # Chamada da execução do algoritmo treinado no conjunto de validação\n",
        "    res = model.feedforward(X_teste)\n",
        "    resp = np.round(res)\n",
        "\n",
        "    # Calculando o erro no conjunto de validação\n",
        "    erro = np.mean(abs(y_teste - res))\n",
        "\n",
        "    # Armazenando o resultado\n",
        "    resultados.append(erro)\n",
        "\n",
        "# Calculando a média dos erros de validação\n",
        "media_erro = np.mean(resultados)\n",
        "\n",
        "# Exibindo o resultado\n",
        "print(\"Erro médio de teste: %.2f\" % (media_erro * 100) + \"%\")\n"
      ],
      "metadata": {
        "id": "F2Kq_tO1EE7W"
      },
      "execution_count": null,
      "outputs": []
    },
    {
      "cell_type": "markdown",
      "source": [
        "##### Com ruido 2"
      ],
      "metadata": {
        "id": "X5VkS2AzBNh2"
      }
    },
    {
      "cell_type": "code",
      "source": [
        "# Importando arquivos\n",
        "df = pd.read_csv(\"https://raw.githubusercontent.com/julioferreirah/Trabalho-IA/main/caracteres_ruido20.csv\", header=None)\n",
        "\n",
        "# Criando vetores\n",
        "X = df.iloc[:, :-7].values  # Seleciona todas as colunas, exceto as 7 últimas, para X - dados\n",
        "y = df.iloc[:, -7:].values  # Seleciona as 7 últimas coluna para y - resposta\n",
        "\n",
        "num_folds = 5 # Definindo o número de folds\n",
        "fold_size = len(X) // num_folds # Calculando o tamanho do fold\n",
        "resultados = [] # Inicializando a lista para armazenar os resultados\n",
        "\n",
        "# Realizando a validação cruzada\n",
        "for i in range(num_folds):\n",
        "    # Definindo os índices para o fold atual\n",
        "    start = i * fold_size\n",
        "    end = (i + 1) * fold_size\n",
        "\n",
        "    # Dividindo os dados em treinamento e teste\n",
        "    X_treino = np.concatenate((X[:start], X[end:]), axis=0)\n",
        "    y_treino = np.concatenate((y[:start], y[end:]), axis=0)\n",
        "    X_teste = X[start:end]\n",
        "    y_teste = y[start:end]\n",
        "\n",
        "    # Treinamento do modelo\n",
        "    model = MLP(tamanho_entrada=63, tamanho_escondida=18, tamanho_saida=7)\n",
        "    model.train(X=X_treino, y=y_treino, epochs=50000, taxa_aprendizado=0.1)\n",
        "\n",
        "    # Chamada da execução do algoritmo treinado no conjunto de validação\n",
        "    res = model.feedforward(X_teste)\n",
        "    resp = np.round(res)\n",
        "\n",
        "    # Calculando o erro no conjunto de validação\n",
        "    erro = np.mean(abs(y_teste - res))\n",
        "\n",
        "    # Armazenando o resultado\n",
        "    resultados.append(erro)\n",
        "\n",
        "# Calculando a média dos erros de validação\n",
        "media_erro = np.mean(resultados)\n",
        "\n",
        "# Exibindo o resultado\n",
        "print(\"Erro médio de teste: %.2f\" % (media_erro * 100) + \"%\")"
      ],
      "metadata": {
        "id": "pVYf73aHBNh2"
      },
      "execution_count": null,
      "outputs": []
    },
    {
      "cell_type": "markdown",
      "source": [
        "#### Com Parada Antecipada"
      ],
      "metadata": {
        "id": "PaqVwT8LIiFv"
      }
    },
    {
      "cell_type": "markdown",
      "source": [
        "##### Sem ruído"
      ],
      "metadata": {
        "id": "rJ4z81qiIiGJ"
      }
    },
    {
      "cell_type": "code",
      "source": [
        "# Importando arquivos\n",
        "df = pd.read_csv(\"https://raw.githubusercontent.com/julioferreirah/Trabalho-IA/main/caracteres-limpo.csv\", header=None)\n",
        "\n",
        "# Criando vetores\n",
        "X = df.iloc[:, :-7].values  # Seleciona todas as colunas, exceto as 7 últimas, para X - dados\n",
        "y = df.iloc[:, -7:].values  # Seleciona as 7 últimas coluna para y - resposta\n",
        "\n",
        "num_folds = 5 # Definindo o número de folds\n",
        "fold_size = len(X) // num_folds # Calculando o tamanho do fold\n",
        "resultados = [] # Inicializando a lista para armazenar os resultados\n",
        "\n",
        "# Realizando a validação cruzada\n",
        "for i in range(num_folds):\n",
        "    # Definindo os índices para o fold atual\n",
        "    start = i * fold_size\n",
        "    end = (i + 1) * fold_size\n",
        "\n",
        "    # Dividindo os dados em treinamento e teste\n",
        "    X_treino = np.concatenate((X[:start], X[end:]), axis=0)\n",
        "    y_treino = np.concatenate((y[:start], y[end:]), axis=0)\n",
        "    X_teste = X[start:end]\n",
        "    y_teste = y[start:end]\n",
        "\n",
        "    # Dividir o conjunto de treinamento em treinamento e validação\n",
        "    num_amostras_validacao = int(X_treino.shape[0] * 0.1)\n",
        "    indices_embaralhados_treino = np.random.permutation(X_treino.shape[0])\n",
        "    indices_validacao = indices_embaralhados_treino[:num_amostras_validacao]\n",
        "    indices_treino = indices_embaralhados_treino[num_amostras_validacao:]\n",
        "    X_treino_final = X_treino[indices_treino]\n",
        "    X_validacao = X_treino[indices_validacao]\n",
        "    y_treino_final = y_treino[indices_treino]\n",
        "    y_validacao = y_treino[indices_validacao]\n",
        "\n",
        "    # Treinamento do modelo\n",
        "    model = MLPpa(tamanho_entrada=63, tamanho_escondida=18, tamanho_saida=7)\n",
        "    model.train(X=X_treino_final, y=y_treino_final, epochs=50000, taxa_aprendizado=0.1,X_validacao=X_validacao, y_validacao=y_validacao)\n",
        "\n",
        "    # Chamada da execução do algoritmo treinado no conjunto de validação\n",
        "    res = model.feedforward(X_teste)\n",
        "    resp = np.round(res)\n",
        "\n",
        "    # Calculando o erro no conjunto de validação\n",
        "    erro = np.mean(abs(y_teste - res))\n",
        "\n",
        "    # Armazenando o resultado\n",
        "    resultados.append(erro)\n",
        "\n",
        "# Calculando a média dos erros de validação\n",
        "media_erro = np.mean(resultados)\n",
        "\n",
        "# Exibindo o resultado\n",
        "print(\"Erro médio de teste: %.2f\" % (media_erro * 100) + \"%\")\n"
      ],
      "metadata": {
        "id": "ab8SybuPIiGK"
      },
      "execution_count": null,
      "outputs": []
    },
    {
      "cell_type": "markdown",
      "source": [
        "##### Com ruido 1"
      ],
      "metadata": {
        "id": "zUSCyiEjIiGK"
      }
    },
    {
      "cell_type": "code",
      "source": [
        "# Importando arquivos\n",
        "df = pd.read_csv(\"https://raw.githubusercontent.com/julioferreirah/Trabalho-IA/main/caracteres-ruido.csv\", header=None)\n",
        "\n",
        "# Criando vetores\n",
        "X = df.iloc[:, :-7].values  # Seleciona todas as colunas, exceto as 7 últimas, para X - dados\n",
        "y = df.iloc[:, -7:].values  # Seleciona as 7 últimas coluna para y - resposta\n",
        "\n",
        "num_folds = 5 # Definindo o número de folds\n",
        "fold_size = len(X) // num_folds # Calculando o tamanho do fold\n",
        "resultados = [] # Inicializando a lista para armazenar os resultados\n",
        "\n",
        "# Realizando a validação cruzada\n",
        "for i in range(num_folds):\n",
        "    # Definindo os índices para o fold atual\n",
        "    start = i * fold_size\n",
        "    end = (i + 1) * fold_size\n",
        "\n",
        "    # Dividindo os dados em treinamento e teste\n",
        "    X_treino = np.concatenate((X[:start], X[end:]), axis=0)\n",
        "    y_treino = np.concatenate((y[:start], y[end:]), axis=0)\n",
        "    X_teste = X[start:end]\n",
        "    y_teste = y[start:end]\n",
        "\n",
        "    # Dividir o conjunto de treinamento em treinamento e validação\n",
        "    num_amostras_validacao = int(X_treino.shape[0] * 0.1)\n",
        "    indices_embaralhados_treino = np.random.permutation(X_treino.shape[0])\n",
        "    indices_validacao = indices_embaralhados_treino[:num_amostras_validacao]\n",
        "    indices_treino = indices_embaralhados_treino[num_amostras_validacao:]\n",
        "    X_treino_final = X_treino[indices_treino]\n",
        "    X_validacao = X_treino[indices_validacao]\n",
        "    y_treino_final = y_treino[indices_treino]\n",
        "    y_validacao = y_treino[indices_validacao]\n",
        "\n",
        "    # Treinamento do modelo\n",
        "    model = MLPpa(tamanho_entrada=63, tamanho_escondida=18, tamanho_saida=7)\n",
        "    model.train(X=X_treino_final, y=y_treino_final, epochs=50000, taxa_aprendizado=0.1,X_validacao=X_validacao, y_validacao=y_validacao)\n",
        "\n",
        "    # Chamada da execução do algoritmo treinado no conjunto de validação\n",
        "    res = model.feedforward(X_teste)\n",
        "    resp = np.round(res)\n",
        "\n",
        "    # Calculando o erro no conjunto de validação\n",
        "    erro = np.mean(abs(y_teste - res))\n",
        "\n",
        "    # Armazenando o resultado\n",
        "    resultados.append(erro)\n",
        "\n",
        "# Calculando a média dos erros de validação\n",
        "media_erro = np.mean(resultados)\n",
        "\n",
        "# Exibindo o resultado\n",
        "print(\"Erro médio de teste: %.2f\" % (media_erro * 100) + \"%\")\n"
      ],
      "metadata": {
        "id": "hNV9MXh0IiGK"
      },
      "execution_count": null,
      "outputs": []
    },
    {
      "cell_type": "markdown",
      "source": [
        "##### Com ruido 2"
      ],
      "metadata": {
        "id": "OuFskKpdIiGL"
      }
    },
    {
      "cell_type": "code",
      "source": [
        "# Importando arquivos\n",
        "df = pd.read_csv(\"https://raw.githubusercontent.com/julioferreirah/Trabalho-IA/main/caracteres_ruido20.csv\", header=None)\n",
        "\n",
        "# Criando vetores\n",
        "X = df.iloc[:, :-7].values  # Seleciona todas as colunas, exceto as 7 últimas, para X - dados\n",
        "y = df.iloc[:, -7:].values  # Seleciona as 7 últimas coluna para y - resposta\n",
        "\n",
        "num_folds = 5 # Definindo o número de folds\n",
        "fold_size = len(X) // num_folds # Calculando o tamanho do fold\n",
        "resultados = [] # Inicializando a lista para armazenar os resultados\n",
        "\n",
        "# Realizando a validação cruzada\n",
        "for i in range(num_folds):\n",
        "    # Definindo os índices para o fold atual\n",
        "    start = i * fold_size\n",
        "    end = (i + 1) * fold_size\n",
        "\n",
        "    # Dividindo os dados em treinamento e teste\n",
        "    X_treino = np.concatenate((X[:start], X[end:]), axis=0)\n",
        "    y_treino = np.concatenate((y[:start], y[end:]), axis=0)\n",
        "    X_teste = X[start:end]\n",
        "    y_teste = y[start:end]\n",
        "\n",
        "    # Dividir o conjunto de treinamento em treinamento e validação\n",
        "    num_amostras_validacao = int(X_treino.shape[0] * 0.1)\n",
        "    indices_embaralhados_treino = np.random.permutation(X_treino.shape[0])\n",
        "    indices_validacao = indices_embaralhados_treino[:num_amostras_validacao]\n",
        "    indices_treino = indices_embaralhados_treino[num_amostras_validacao:]\n",
        "    X_treino_final = X_treino[indices_treino]\n",
        "    X_validacao = X_treino[indices_validacao]\n",
        "    y_treino_final = y_treino[indices_treino]\n",
        "    y_validacao = y_treino[indices_validacao]\n",
        "\n",
        "    # Treinamento do modelo\n",
        "    model = MLPpa(tamanho_entrada=63, tamanho_escondida=18, tamanho_saida=7)\n",
        "    model.train(X=X_treino_final, y=y_treino_final, epochs=50000, taxa_aprendizado=0.1,X_validacao=X_validacao, y_validacao=y_validacao)\n",
        "\n",
        "    # Chamada da execução do algoritmo treinado no conjunto de validação\n",
        "    res = model.feedforward(X_teste)\n",
        "    resp = np.round(res)\n",
        "\n",
        "    # Calculando o erro no conjunto de validação\n",
        "    erro = np.mean(abs(y_teste - res))\n",
        "\n",
        "    # Armazenando o resultado\n",
        "    resultados.append(erro)\n",
        "\n",
        "# Calculando a média dos erros de validação\n",
        "media_erro = np.mean(resultados)\n",
        "\n",
        "# Exibindo o resultado\n",
        "print(\"Erro médio de teste: %.2f\" % (media_erro * 100) + \"%\")"
      ],
      "metadata": {
        "id": "Vv3k-EOKIiGL"
      },
      "execution_count": null,
      "outputs": []
    }
  ]
}