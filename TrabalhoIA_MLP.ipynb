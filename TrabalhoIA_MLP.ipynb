{
  "nbformat": 4,
  "nbformat_minor": 0,
  "metadata": {
    "colab": {
      "provenance": [],
      "include_colab_link": true
    },
    "kernelspec": {
      "name": "python3",
      "display_name": "Python 3"
    },
    "language_info": {
      "name": "python"
    }
  },
  "cells": [
    {
      "cell_type": "markdown",
      "metadata": {
        "id": "view-in-github",
        "colab_type": "text"
      },
      "source": [
        "<a href=\"https://colab.research.google.com/github/julioferreirah/Inteligencia-Artificial/blob/main/TrabalhoIA_MLP.ipynb\" target=\"_parent\"><img src=\"https://colab.research.google.com/assets/colab-badge.svg\" alt=\"Open In Colab\"/></a>"
      ]
    },
    {
      "cell_type": "markdown",
      "source": [
        "# Trabalho de Inteligência Artificial - Implementação de MLP"
      ],
      "metadata": {
        "id": "ATXSCBf5_w49"
      }
    },
    {
      "cell_type": "markdown",
      "source": [
        "## Modelo"
      ],
      "metadata": {
        "id": "pD5VsiaKATDT"
      }
    },
    {
      "cell_type": "markdown",
      "source": [
        " ### Importando Bibliotecas\n"
      ],
      "metadata": {
        "id": "keioPO5nxqm6"
      }
    },
    {
      "cell_type": "code",
      "source": [
        "import numpy as np\n",
        "import time as t\n",
        "import matplotlib.pyplot as plt\n",
        "%matplotlib inline"
      ],
      "metadata": {
        "id": "eaFUUzkZxuct"
      },
      "execution_count": 128,
      "outputs": []
    },
    {
      "cell_type": "markdown",
      "source": [
        "### Modelo sem parada antecipada"
      ],
      "metadata": {
        "id": "rsgpc7G35FJq"
      }
    },
    {
      "cell_type": "code",
      "source": [
        "# Função de ativação tangente hiperbólica\n",
        "def tanh(x):\n",
        "    return np.tanh(x)\n",
        "\n",
        "# Função de perda - Erro Quadrático Médio\n",
        "def erro_quadratico(y_dado, y_predito):\n",
        "    return np.mean((y_dado - y_predito) ** 2)\n",
        "\n",
        "class MLP:\n",
        "    def __init__(self, tamanho_entrada, tamanho_escondida, tamanho_saida):\n",
        "        # Inicialização dos pesos\n",
        "        self.W1 = np.random.randn(tamanho_entrada, tamanho_escondida)\n",
        "        self.b1 = np.zeros((1, tamanho_escondida))\n",
        "        self.W2 = np.random.randn(tamanho_escondida, tamanho_saida)\n",
        "        self.b2 = np.zeros((1, tamanho_saida))\n",
        "\n",
        "    def feedforward(self, X):\n",
        "        # Camada oculta\n",
        "        self.z1 = np.dot(X, self.W1) + self.b1\n",
        "        self.a1 = tanh(self.z1)\n",
        "\n",
        "        # Camada de saída\n",
        "        self.z2 = np.dot(self.a1, self.W2) + self.b2\n",
        "        self.a2 = tanh(self.z2)\n",
        "\n",
        "        return self.a2\n",
        "\n",
        "    def backpropagation(self, X, y, y_predito, taxa_aprendizado):\n",
        "        # Gradiente da camada de saída\n",
        "        delta2 = (y_predito - y) * (1 - tanh(self.z2) ** 2)\n",
        "        dW2 = np.dot(self.a1.T, delta2)\n",
        "        db2 = delta2.sum(axis=0, keepdims=True)\n",
        "\n",
        "        # Gradiente da camada oculta\n",
        "        delta1 = np.dot(delta2, self.W2.T) * (1 - tanh(self.z1) ** 2)\n",
        "        dW1 = np.dot(X.T, delta1)\n",
        "        db1 = delta1.sum(axis=0)\n",
        "\n",
        "        # Atualização dos pesos\n",
        "        self.W2 -= taxa_aprendizado * dW2\n",
        "        self.b2 -= taxa_aprendizado * db2\n",
        "        self.W1 -= taxa_aprendizado * dW1\n",
        "        self.b1 -= taxa_aprendizado * db1\n",
        "\n",
        "    def train(self, X, y, epochs, taxa_aprendizado):\n",
        "        v = []\n",
        "        count = 0\n",
        "        for  i in range(epochs) :\n",
        "            # Feedforward\n",
        "            y_predito = self.feedforward(X)\n",
        "\n",
        "            # Backpropagation\n",
        "            self.backpropagation(X, y, y_predito, taxa_aprendizado)\n",
        "\n",
        "            # Cálculo do erro\n",
        "            loss = erro_quadratico(y, y_predito)\n",
        "\n",
        "            # A cada 10 épocas: registra erro e diminui tx de aprendizado\n",
        "            if i % 10 == 0:\n",
        "                v.append(loss)\n",
        "                taxa_aprendizado = taxa_aprendizado*0.95\n",
        "                count += 1\n",
        "\n",
        "            #condição parada\n",
        "            if float(taxa_aprendizado) < 0.01:\n",
        "              break\n",
        "\n",
        "\n",
        "        #quando parou\n",
        "        print(\"Parada na época \", i +1)\n",
        "        print(\"Taxa de aprendizado \", taxa_aprendizado)\n",
        "\n",
        "        #plot do erro\n",
        "        plt.plot(range(0, count*10, 10), v)\n",
        "        plt.xlabel('Épocas')\n",
        "        plt.ylabel('Erro Quadrático Médio')\n",
        "        plt.title('Histórico de Erro durante o Treinamento')\n",
        "        plt.show()\n"
      ],
      "metadata": {
        "id": "IudmdQrGxx75"
      },
      "execution_count": 178,
      "outputs": []
    },
    {
      "cell_type": "markdown",
      "source": [
        "### Modelo com parada antecipada"
      ],
      "metadata": {
        "id": "DFb7rWblMRcz"
      }
    },
    {
      "cell_type": "code",
      "source": [
        "# Função de ativação tangente hiperbólica\n",
        "def tanh(x):\n",
        "    return np.tanh(x)\n",
        "\n",
        "# Função de perda - Erro Quadrático Médio\n",
        "def erro_quadratico(y_dado, y_predito):\n",
        "    return ((y_dado - y_predito) ** 2).mean()\n",
        "\n",
        "class MLPp:\n",
        "    def __init__(self, tamanho_entrada, tamanho_escondida, tamanho_saida):\n",
        "        # Inicialização dos pesos\n",
        "        self.W1 = np.random.randn(tamanho_entrada, tamanho_escondida)\n",
        "        self.b1 = np.zeros((1, tamanho_escondida))\n",
        "        self.W2 = np.random.randn(tamanho_escondida, tamanho_saida)\n",
        "        self.b2 = np.zeros((1, tamanho_saida))\n",
        "\n",
        "    def feedforward(self, X):\n",
        "        # Camada oculta\n",
        "        self.z1 = np.dot(X, self.W1) + self.b1\n",
        "        self.a1 = tanh(self.z1)\n",
        "\n",
        "        # Camada de saída\n",
        "        self.z2 = np.dot(self.a1, self.W2) + self.b2\n",
        "        self.a2 = tanh(self.z2)\n",
        "\n",
        "        return self.a2\n",
        "\n",
        "    def backpropagation(self, X, y, y_predito, taxa_aprendizado):\n",
        "        # Gradiente da camada de saída\n",
        "        delta2 = (y_predito - y) * (1 - tanh(self.z2) ** 2)\n",
        "        dW2 = np.dot(self.a1.T, delta2)\n",
        "        db2 = delta2.sum(axis=0, keepdims=True)\n",
        "\n",
        "        # Gradiente da camada oculta\n",
        "        delta1 = np.dot(delta2, self.W2.T) * (1 - tanh(self.z1) ** 2)\n",
        "        dW1 = np.dot(X.T, delta1)\n",
        "        db1 = delta1.sum(axis=0)\n",
        "\n",
        "        # Atualização dos pesos\n",
        "        self.W2 -= taxa_aprendizado * dW2\n",
        "        self.b2 -= taxa_aprendizado * db2\n",
        "        self.W1 -= taxa_aprendizado * dW1\n",
        "        self.b1 -= taxa_aprendizado * db1\n",
        "\n",
        "    def train(self, X, y, epochs, taxa_aprendizado):\n",
        "        v = []\n",
        "        i = 0\n",
        "        while (i < (epochs) & taxa_aprendizado > 0.05 &  ):\n",
        "            # Feedforward\n",
        "            y_predito = self.feedforward(X)\n",
        "\n",
        "            # Backpropagation\n",
        "            self.backpropagation(X, y, y_predito, taxa_aprendizado)\n",
        "\n",
        "            # Cálculo do erro\n",
        "            loss = erro_quadratico(y, y_predito)\n",
        "\n",
        "            # Impressão do erro a cada 10 épocas\n",
        "            if i % 10 == 0:\n",
        "                v.append(loss)\n",
        "            i += 1\n",
        "\n",
        "        plt.plot(range(0, epochs, 10), v)\n",
        "        plt.xlabel('Épocas')\n",
        "        plt.ylabel('Erro Quadrático Médio')\n",
        "        plt.title('Histórico de Erro durante o Treinamento')\n",
        "        plt.show()\n"
      ],
      "metadata": {
        "colab": {
          "base_uri": "https://localhost:8080/",
          "height": 0
        },
        "id": "AycGRpyzMRdM",
        "outputId": "0f858ecb-1a21-425d-bbd6-ea19ef0d7691"
      },
      "execution_count": 106,
      "outputs": [
        {
          "output_type": "error",
          "ename": "SyntaxError",
          "evalue": "ignored",
          "traceback": [
            "\u001b[0;36m  File \u001b[0;32m\"<ipython-input-106-d6c9161f9fca>\"\u001b[0;36m, line \u001b[0;32m48\u001b[0m\n\u001b[0;31m    while (i < (epochs) & taxa_aprendizado > 0.05 &  ):\u001b[0m\n\u001b[0m                                                     ^\u001b[0m\n\u001b[0;31mSyntaxError\u001b[0m\u001b[0;31m:\u001b[0m invalid syntax\n"
          ]
        }
      ]
    },
    {
      "cell_type": "markdown",
      "source": [
        "#Aplicação do Modelo"
      ],
      "metadata": {
        "id": "meFf1pvvy6Rx"
      }
    },
    {
      "cell_type": "markdown",
      "source": [
        "## Portas Lógicas"
      ],
      "metadata": {
        "id": "g6j1bsirh_-z"
      }
    },
    {
      "cell_type": "markdown",
      "source": [
        " ### Importando Bibliotecas\n"
      ],
      "metadata": {
        "id": "VYF4MfYt5cZY"
      }
    },
    {
      "cell_type": "code",
      "source": [
        "#condiderando bibliotecas importadas anteriormente\n",
        "import pandas as pd"
      ],
      "metadata": {
        "id": "cbfbisFF5cZf"
      },
      "execution_count": 5,
      "outputs": []
    },
    {
      "cell_type": "markdown",
      "source": [
        "###Problema do AND"
      ],
      "metadata": {
        "id": "c8fFlDya00Vj"
      }
    },
    {
      "cell_type": "code",
      "source": [
        "# Importando arquivos\n",
        "df = pd.read_csv(\"https://raw.githubusercontent.com/julioferreirah/Trabalho-IA/main/problemAND.csv\", header=None, prefix='c')\n",
        "\n",
        "# Criando vetores\n",
        "X = df.iloc[:, :-1].values  # Seleciona todas as colunas, exceto a última, para X\n",
        "y_raw = df.iloc[:, -1].values  # Seleciona a última coluna para y\n",
        "\n",
        "# Formatando y como uma matriz de coluna\n",
        "y = y_raw.reshape(-1, 1)\n"
      ],
      "metadata": {
        "colab": {
          "base_uri": "https://localhost:8080/"
        },
        "id": "PbusencL9Ifg",
        "outputId": "9c79c552-57ec-4b49-e447-27f77226ec4b"
      },
      "execution_count": 82,
      "outputs": [
        {
          "output_type": "stream",
          "name": "stderr",
          "text": [
            "<ipython-input-82-ecd9cf465c72>:2: FutureWarning: The prefix argument has been deprecated and will be removed in a future version. Use a list comprehension on the column names in the future.\n",
            "\n",
            "\n",
            "  df = pd.read_csv(\"https://raw.githubusercontent.com/julioferreirah/Trabalho-IA/main/problemAND.csv\", header=None, prefix='c')\n"
          ]
        }
      ]
    },
    {
      "cell_type": "code",
      "source": [
        "\n",
        "# Treinamento do modelo\n",
        "model = MLP(tamanho_entrada = 2, tamanho_escondida = 1, tamanho_saida = 1)\n",
        "print(model.train(X= X,y= y, epochs= 100, taxa_aprendizado= 0.1))\n",
        "\n",
        "# Chamada da execucao do algoritmo treinado\n",
        "a = model.feedforward(X)\n",
        "print(a)\n",
        "print(np.round(a))\n"
      ],
      "metadata": {
        "colab": {
          "base_uri": "https://localhost:8080/",
          "height": 640
        },
        "id": "5mhsWlbIy9Mf",
        "outputId": "a8c08777-0508-4b51-9d94-e45861c0b1fd"
      },
      "execution_count": 83,
      "outputs": [
        {
          "output_type": "display_data",
          "data": {
            "text/plain": [
              "<Figure size 640x480 with 1 Axes>"
            ],
            "image/png": "[encoded data removed]"
          },
          "metadata": {}
        },
        {
          "output_type": "stream",
          "name": "stdout",
          "text": [
            "None\n",
            "[[-0.98272894]\n",
            " [-0.93081692]\n",
            " [-0.93094113]\n",
            " [ 0.892373  ]]\n",
            "[[-1.]\n",
            " [-1.]\n",
            " [-1.]\n",
            " [ 1.]]\n"
          ]
        }
      ]
    },
    {
      "cell_type": "markdown",
      "source": [
        "###Problema do OR"
      ],
      "metadata": {
        "id": "7760I3HsLlsc"
      }
    },
    {
      "cell_type": "code",
      "source": [
        "# Importando arquivos\n",
        "df = pd.read_csv(\"https://raw.githubusercontent.com/julioferreirah/Trabalho-IA/main/problemOR.csv\", header=None, prefix='c')\n",
        "\n",
        "# Criando vetores\n",
        "X = df.iloc[:, :-1].values  # Seleciona todas as colunas, exceto a última, para X\n",
        "y_raw = df.iloc[:, -1].values  # Seleciona a última coluna para y\n",
        "\n",
        "# Formatando y como uma matriz de coluna\n",
        "y = y_raw.reshape(-1, 1)\n"
      ],
      "metadata": {
        "colab": {
          "base_uri": "https://localhost:8080/"
        },
        "outputId": "3389d98b-b747-4ae6-9ec1-5e4f26f8bf81",
        "id": "Da1MURRlLls_"
      },
      "execution_count": null,
      "outputs": [
        {
          "output_type": "stream",
          "name": "stderr",
          "text": [
            "<ipython-input-78-c68ca407501b>:2: FutureWarning: The prefix argument has been deprecated and will be removed in a future version. Use a list comprehension on the column names in the future.\n",
            "\n",
            "\n",
            "  df = pd.read_csv(\"https://raw.githubusercontent.com/julioferreirah/Trabalho-IA/main/problemOR.csv\", header=None, prefix='c')\n"
          ]
        }
      ]
    },
    {
      "cell_type": "code",
      "source": [
        "\n",
        "# Treinamento do modelo\n",
        "model = MLP(tamanho_entrada = 2, tamanho_escondida = 1, tamanho_saida = 1)\n",
        "print(model.train(X= X,y= y, epochs= 100, taxa_aprendizado= 0.1))\n",
        "\n",
        "# Chamada da execucao do algoritmo treinado\n",
        "a = model.feedforward(X)\n",
        "print(a)\n",
        "print(np.round(a))\n"
      ],
      "metadata": {
        "colab": {
          "base_uri": "https://localhost:8080/",
          "height": 640
        },
        "outputId": "b2fc20fe-7f09-4fca-8d3c-94ddbd2a32bd",
        "id": "2fBKwzGvLltB"
      },
      "execution_count": null,
      "outputs": [
        {
          "output_type": "display_data",
          "data": {
            "text/plain": [
              "<Figure size 640x480 with 1 Axes>"
            ],
            "image/png": "[encoded data removed]"
          },
          "metadata": {}
        },
        {
          "output_type": "stream",
          "name": "stdout",
          "text": [
            "None\n",
            "[[-0.89545127]\n",
            " [ 0.94527021]\n",
            " [ 0.93502319]\n",
            " [ 0.98138615]]\n",
            "[[-1.]\n",
            " [ 1.]\n",
            " [ 1.]\n",
            " [ 1.]]\n"
          ]
        }
      ]
    },
    {
      "cell_type": "markdown",
      "source": [
        "###Problema do XOR"
      ],
      "metadata": {
        "id": "j0zL0iJoKaCq"
      }
    },
    {
      "cell_type": "code",
      "source": [
        "# Importando arquivos\n",
        "df = pd.read_csv(\"https://raw.githubusercontent.com/julioferreirah/Trabalho-IA/main/problemXOR.csv\", header=None, prefix='c')\n",
        "\n",
        "# Criando vetores\n",
        "X = df.iloc[:, :-1].values  # Seleciona todas as colunas, exceto a última, para X\n",
        "y_raw = df.iloc[:, -1].values  # Seleciona a última coluna para y\n",
        "\n",
        "# Formatando y como uma matriz de coluna\n",
        "y = y_raw.reshape(-1, 1)\n",
        "\n",
        "# Verificando as dimensões\n",
        "print(\"Dimensões de X:\", X.shape)\n",
        "print(\"Dimensões de y:\", y.shape)\n"
      ],
      "metadata": {
        "id": "ljVUmFeEKaC0"
      },
      "execution_count": null,
      "outputs": []
    },
    {
      "cell_type": "code",
      "source": [
        "\n",
        "# Treinamento do modelo\n",
        "model = MLP(tamanho_entrada = 2, tamanho_escondida = 3, tamanho_saida = 1)\n",
        "model.train(X= X,y= y, epochs= 500, taxa_aprendizado= 0.1)\n",
        "\n",
        "# Chamada da execucao do algoritmo treinado\n",
        "a = model.feedforward(X)\n",
        "print(a)\n",
        "print(np.round(a))\n"
      ],
      "metadata": {
        "id": "56YC8e4Xc36Y"
      },
      "execution_count": null,
      "outputs": []
    },
    {
      "cell_type": "markdown",
      "source": [
        "## Caracteres"
      ],
      "metadata": {
        "id": "tpzvNAYEiJnz"
      }
    },
    {
      "cell_type": "markdown",
      "source": [
        "### Sem Validação Cruzada"
      ],
      "metadata": {
        "id": "TsfeLnAThoA4"
      }
    },
    {
      "cell_type": "markdown",
      "source": [
        "#### Sem Parada Antecipada"
      ],
      "metadata": {
        "id": "6DIiU_K9ivzD"
      }
    },
    {
      "cell_type": "code",
      "source": [
        "# Importando arquivos\n",
        "df = pd.read_csv(\"https://raw.githubusercontent.com/julioferreirah/Trabalho-IA/main/caracteres-limpo.csv\", header=None)\n",
        "\n",
        "# Criando vetores\n",
        "X = df.iloc[:, :-7].values  # Seleciona todas as colunas, exceto as 7 últimas, para X - dados\n",
        "y = df.iloc[:, -7:].values  # Seleciona as 7 últimas coluna para y - resposta\n",
        "\n"
      ],
      "metadata": {
        "colab": {
          "base_uri": "https://localhost:8080/"
        },
        "outputId": "934e6ddf-0ffa-4dc4-b40b-48d15cee72f7",
        "id": "4aSlbMLLhoBa"
      },
      "execution_count": 184,
      "outputs": [
        {
          "output_type": "execute_result",
          "data": {
            "text/plain": [
              "array([[-1, -1,  1, ...,  1,  1,  1],\n",
              "       [ 1,  1,  1, ...,  1,  1, -1],\n",
              "       [-1, -1,  1, ...,  1,  1, -1],\n",
              "       ...,\n",
              "       [ 1,  1,  1, ...,  1,  1,  1],\n",
              "       [-1, -1, -1, ...,  1, -1, -1],\n",
              "       [ 1,  1,  1, ..., -1,  1,  1]])"
            ]
          },
          "metadata": {},
          "execution_count": 184
        }
      ]
    },
    {
      "cell_type": "code",
      "source": [
        "\n",
        "# Treinamento do modelo\n",
        "model = MLP(tamanho_entrada = 2, tamanho_escondida = 3, tamanho_saida = 1)\n",
        "model.train(X= X,y= y, epochs= 500, taxa_aprendizado= 0.1)\n",
        "\n",
        "# Chamada da execucao do algoritmo treinado\n",
        "a = model.feedforward(X)\n",
        "print(a)\n",
        "print(np.round(a))\n"
      ],
      "metadata": {
        "id": "XvDI7D9shoBb"
      },
      "execution_count": null,
      "outputs": []
    }
  ]
}